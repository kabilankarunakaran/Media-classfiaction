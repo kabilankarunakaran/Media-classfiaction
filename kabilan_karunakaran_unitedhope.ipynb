{
 "cells": [
  {
   "cell_type": "code",
   "execution_count": 230,
   "metadata": {
    "collapsed": true
   },
   "outputs": [],
   "source": [
    "import nltk\n",
    "import pandas as pd\n",
    "import matplotlib.pyplot as plt\n",
    "import seaborn as sns\n",
    "import string\n",
    "import sklearn"
   ]
  },
  {
   "cell_type": "code",
   "execution_count": 243,
   "metadata": {
    "collapsed": false
   },
   "outputs": [],
   "source": [
    "#nltk.download_shell()\n",
    "media = pd.read_csv('Desktop/Imbalanced Data set/Media/train.csv')\n",
    "media_eval = pd.read_csv('Desktop/Imbalanced Data set/Media/evaluation.csv')"
   ]
  },
  {
   "cell_type": "code",
   "execution_count": 148,
   "metadata": {
    "collapsed": false
   },
   "outputs": [
    {
     "data": {
      "text/html": [
       "<div>\n",
       "<table border=\"1\" class=\"dataframe\">\n",
       "  <thead>\n",
       "    <tr style=\"text-align: right;\">\n",
       "      <th></th>\n",
       "      <th>storeId</th>\n",
       "      <th>url</th>\n",
       "      <th>additionalAttributes</th>\n",
       "      <th>breadcrumbs</th>\n",
       "      <th>label</th>\n",
       "      <th>length_breadcrumbs</th>\n",
       "      <th>length_additionalAttributes</th>\n",
       "    </tr>\n",
       "  </thead>\n",
       "  <tbody>\n",
       "    <tr>\n",
       "      <th>0</th>\n",
       "      <td>23</td>\n",
       "      <td>http://www.walmart.com/ip/best-of-toto%3A-pian...</td>\n",
       "      <td>Contributed by=Toto;Format=Paperback;Number of...</td>\n",
       "      <td>books &gt; art music &amp; photography &gt; music</td>\n",
       "      <td>books</td>\n",
       "      <td>39</td>\n",
       "      <td>171</td>\n",
       "    </tr>\n",
       "    <tr>\n",
       "      <th>1</th>\n",
       "      <td>NaN</td>\n",
       "      <td>Not Available</td>\n",
       "      <td>Not Available</td>\n",
       "      <td>best buy &gt; computers &amp; tablets &gt; computer card...</td>\n",
       "      <td>rest</td>\n",
       "      <td>91</td>\n",
       "      <td>13</td>\n",
       "    </tr>\n",
       "    <tr>\n",
       "      <th>2</th>\n",
       "      <td>23</td>\n",
       "      <td>https://www.walmart.com/ip/34441317</td>\n",
       "      <td>Performer=Cult Of Youth;Record Label=Vinyl;1.=...</td>\n",
       "      <td>music on cd or vinyl &gt; rock music on cd or vin...</td>\n",
       "      <td>music</td>\n",
       "      <td>88</td>\n",
       "      <td>110</td>\n",
       "    </tr>\n",
       "  </tbody>\n",
       "</table>\n",
       "</div>"
      ],
      "text/plain": [
       "  storeId                                                url  \\\n",
       "0      23  http://www.walmart.com/ip/best-of-toto%3A-pian...   \n",
       "1     NaN                                      Not Available   \n",
       "2      23                https://www.walmart.com/ip/34441317   \n",
       "\n",
       "                                additionalAttributes  \\\n",
       "0  Contributed by=Toto;Format=Paperback;Number of...   \n",
       "1                                      Not Available   \n",
       "2  Performer=Cult Of Youth;Record Label=Vinyl;1.=...   \n",
       "\n",
       "                                         breadcrumbs  label  \\\n",
       "0            books > art music & photography > music  books   \n",
       "1  best buy > computers & tablets > computer card...   rest   \n",
       "2  music on cd or vinyl > rock music on cd or vin...  music   \n",
       "\n",
       "   length_breadcrumbs  length_additionalAttributes  \n",
       "0                  39                          171  \n",
       "1                  91                           13  \n",
       "2                  88                          110  "
      ]
     },
     "execution_count": 148,
     "metadata": {},
     "output_type": "execute_result"
    }
   ],
   "source": [
    "media[0:3]"
   ]
  },
  {
   "cell_type": "code",
   "execution_count": 45,
   "metadata": {
    "collapsed": false
   },
   "outputs": [
    {
     "name": "stdout",
     "output_type": "stream",
     "text": [
      "603201\n"
     ]
    }
   ],
   "source": [
    "print(len(media))"
   ]
  },
  {
   "cell_type": "code",
   "execution_count": 263,
   "metadata": {
    "collapsed": false
   },
   "outputs": [
    {
     "data": {
      "text/html": [
       "<div>\n",
       "<table border=\"1\" class=\"dataframe\">\n",
       "  <thead>\n",
       "    <tr style=\"text-align: right;\">\n",
       "      <th></th>\n",
       "      <th>storeId</th>\n",
       "      <th>url</th>\n",
       "      <th>additionalAttributes</th>\n",
       "      <th>breadcrumbs</th>\n",
       "      <th>label</th>\n",
       "    </tr>\n",
       "  </thead>\n",
       "  <tbody>\n",
       "    <tr>\n",
       "      <th>count</th>\n",
       "      <td>213951</td>\n",
       "      <td>213951</td>\n",
       "      <td>213951</td>\n",
       "      <td>599800</td>\n",
       "      <td>603201</td>\n",
       "    </tr>\n",
       "    <tr>\n",
       "      <th>unique</th>\n",
       "      <td>166</td>\n",
       "      <td>201510</td>\n",
       "      <td>199742</td>\n",
       "      <td>63126</td>\n",
       "      <td>4</td>\n",
       "    </tr>\n",
       "    <tr>\n",
       "      <th>top</th>\n",
       "      <td>22</td>\n",
       "      <td>https://www.walmart.com/ip/Strings-N-Stripes-G...</td>\n",
       "      <td>Country of Origin=United States</td>\n",
       "      <td>books</td>\n",
       "      <td>rest</td>\n",
       "    </tr>\n",
       "    <tr>\n",
       "      <th>freq</th>\n",
       "      <td>48000</td>\n",
       "      <td>6</td>\n",
       "      <td>405</td>\n",
       "      <td>16039</td>\n",
       "      <td>389250</td>\n",
       "    </tr>\n",
       "  </tbody>\n",
       "</table>\n",
       "</div>"
      ],
      "text/plain": [
       "       storeId                                                url  \\\n",
       "count   213951                                             213951   \n",
       "unique     166                                             201510   \n",
       "top         22  https://www.walmart.com/ip/Strings-N-Stripes-G...   \n",
       "freq     48000                                                  6   \n",
       "\n",
       "                   additionalAttributes breadcrumbs   label  \n",
       "count                            213951      599800  603201  \n",
       "unique                           199742       63126       4  \n",
       "top     Country of Origin=United States       books    rest  \n",
       "freq                                405       16039  389250  "
      ]
     },
     "execution_count": 263,
     "metadata": {},
     "output_type": "execute_result"
    }
   ],
   "source": [
    "media.describe()"
   ]
  },
  {
   "cell_type": "code",
   "execution_count": 265,
   "metadata": {
    "collapsed": false
   },
   "outputs": [
    {
     "name": "stdout",
     "output_type": "stream",
     "text": [
      "<class 'pandas.core.frame.DataFrame'>\n",
      "RangeIndex: 442041 entries, 0 to 442040\n",
      "Data columns (total 5 columns):\n",
      "storeId                 53450 non-null object\n",
      "url                     53450 non-null object\n",
      "additionalAttributes    53450 non-null object\n",
      "breadcrumbs             441130 non-null object\n",
      "id                      442041 non-null int64\n",
      "dtypes: int64(1), object(4)\n",
      "memory usage: 16.9+ MB\n"
     ]
    }
   ],
   "source": [
    "media_eval.info()"
   ]
  },
  {
   "cell_type": "code",
   "execution_count": 16,
   "metadata": {
    "collapsed": false
   },
   "outputs": [
    {
     "data": {
      "text/html": [
       "<div>\n",
       "<table border=\"1\" class=\"dataframe\">\n",
       "  <thead>\n",
       "    <tr style=\"text-align: right;\">\n",
       "      <th></th>\n",
       "      <th></th>\n",
       "      <th>additionalAttributes</th>\n",
       "      <th>breadcrumbs</th>\n",
       "      <th>storeId</th>\n",
       "      <th>url</th>\n",
       "    </tr>\n",
       "    <tr>\n",
       "      <th>label</th>\n",
       "      <th></th>\n",
       "      <th></th>\n",
       "      <th></th>\n",
       "      <th></th>\n",
       "      <th></th>\n",
       "    </tr>\n",
       "  </thead>\n",
       "  <tbody>\n",
       "    <tr>\n",
       "      <th rowspan=\"4\" valign=\"top\">books</th>\n",
       "      <th>count</th>\n",
       "      <td>95811</td>\n",
       "      <td>92410</td>\n",
       "      <td>95811</td>\n",
       "      <td>95811</td>\n",
       "    </tr>\n",
       "    <tr>\n",
       "      <th>unique</th>\n",
       "      <td>94689</td>\n",
       "      <td>19169</td>\n",
       "      <td>18</td>\n",
       "      <td>94890</td>\n",
       "    </tr>\n",
       "    <tr>\n",
       "      <th>top</th>\n",
       "      <td>Format=Record book;Series Name=Grow a Thousand...</td>\n",
       "      <td>books</td>\n",
       "      <td>22</td>\n",
       "      <td>https://www.barnesandnoble.com/w/little-women-...</td>\n",
       "    </tr>\n",
       "    <tr>\n",
       "      <th>freq</th>\n",
       "      <td>86</td>\n",
       "      <td>16039</td>\n",
       "      <td>16000</td>\n",
       "      <td>4</td>\n",
       "    </tr>\n",
       "    <tr>\n",
       "      <th rowspan=\"4\" valign=\"top\">music</th>\n",
       "      <th>count</th>\n",
       "      <td>59996</td>\n",
       "      <td>59996</td>\n",
       "      <td>59996</td>\n",
       "      <td>59996</td>\n",
       "    </tr>\n",
       "    <tr>\n",
       "      <th>unique</th>\n",
       "      <td>50560</td>\n",
       "      <td>4853</td>\n",
       "      <td>93</td>\n",
       "      <td>50894</td>\n",
       "    </tr>\n",
       "    <tr>\n",
       "      <th>top</th>\n",
       "      <td>edition=Audio CD</td>\n",
       "      <td>music</td>\n",
       "      <td>2627</td>\n",
       "      <td>https://www.walmart.com/ip/Golden-Suits-Dlcd-O...</td>\n",
       "    </tr>\n",
       "    <tr>\n",
       "      <th>freq</th>\n",
       "      <td>274</td>\n",
       "      <td>16000</td>\n",
       "      <td>16000</td>\n",
       "      <td>6</td>\n",
       "    </tr>\n",
       "    <tr>\n",
       "      <th rowspan=\"4\" valign=\"top\">rest</th>\n",
       "      <th>count</th>\n",
       "      <td>0</td>\n",
       "      <td>389250</td>\n",
       "      <td>0</td>\n",
       "      <td>0</td>\n",
       "    </tr>\n",
       "    <tr>\n",
       "      <th>unique</th>\n",
       "      <td>0</td>\n",
       "      <td>32762</td>\n",
       "      <td>0</td>\n",
       "      <td>0</td>\n",
       "    </tr>\n",
       "    <tr>\n",
       "      <th>top</th>\n",
       "      <td>NaN</td>\n",
       "      <td>home  &gt;  decor  &gt;  curtains &amp; window treatmen...</td>\n",
       "      <td>NaN</td>\n",
       "      <td>NaN</td>\n",
       "    </tr>\n",
       "    <tr>\n",
       "      <th>freq</th>\n",
       "      <td>NaN</td>\n",
       "      <td>13703</td>\n",
       "      <td>NaN</td>\n",
       "      <td>NaN</td>\n",
       "    </tr>\n",
       "    <tr>\n",
       "      <th rowspan=\"4\" valign=\"top\">videos</th>\n",
       "      <th>count</th>\n",
       "      <td>58144</td>\n",
       "      <td>58144</td>\n",
       "      <td>58144</td>\n",
       "      <td>58144</td>\n",
       "    </tr>\n",
       "    <tr>\n",
       "      <th>unique</th>\n",
       "      <td>54496</td>\n",
       "      <td>6342</td>\n",
       "      <td>65</td>\n",
       "      <td>55728</td>\n",
       "    </tr>\n",
       "    <tr>\n",
       "      <th>top</th>\n",
       "      <td>Country of Origin=United States</td>\n",
       "      <td>target &gt; movies, music &amp; books &gt; movies &gt; drama</td>\n",
       "      <td>22</td>\n",
       "      <td>http://www.amazon.com/dp/B00GQQ77IU?psc=1</td>\n",
       "    </tr>\n",
       "    <tr>\n",
       "      <th>freq</th>\n",
       "      <td>398</td>\n",
       "      <td>3094</td>\n",
       "      <td>16000</td>\n",
       "      <td>4</td>\n",
       "    </tr>\n",
       "  </tbody>\n",
       "</table>\n",
       "</div>"
      ],
      "text/plain": [
       "                                            additionalAttributes  \\\n",
       "label                                                              \n",
       "books  count                                               95811   \n",
       "       unique                                              94689   \n",
       "       top     Format=Record book;Series Name=Grow a Thousand...   \n",
       "       freq                                                   86   \n",
       "music  count                                               59996   \n",
       "       unique                                              50560   \n",
       "       top                                      edition=Audio CD   \n",
       "       freq                                                  274   \n",
       "rest   count                                                   0   \n",
       "       unique                                                  0   \n",
       "       top                                                   NaN   \n",
       "       freq                                                  NaN   \n",
       "videos count                                               58144   \n",
       "       unique                                              54496   \n",
       "       top                       Country of Origin=United States   \n",
       "       freq                                                  398   \n",
       "\n",
       "                                                     breadcrumbs storeId  \\\n",
       "label                                                                      \n",
       "books  count                                               92410   95811   \n",
       "       unique                                              19169      18   \n",
       "       top                                                 books      22   \n",
       "       freq                                                16039   16000   \n",
       "music  count                                               59996   59996   \n",
       "       unique                                               4853      93   \n",
       "       top                                                 music    2627   \n",
       "       freq                                                16000   16000   \n",
       "rest   count                                              389250       0   \n",
       "       unique                                              32762       0   \n",
       "       top      home  >  decor  >  curtains & window treatmen...     NaN   \n",
       "       freq                                                13703     NaN   \n",
       "videos count                                               58144   58144   \n",
       "       unique                                               6342      65   \n",
       "       top       target > movies, music & books > movies > drama      22   \n",
       "       freq                                                 3094   16000   \n",
       "\n",
       "                                                             url  \n",
       "label                                                             \n",
       "books  count                                               95811  \n",
       "       unique                                              94890  \n",
       "       top     https://www.barnesandnoble.com/w/little-women-...  \n",
       "       freq                                                    4  \n",
       "music  count                                               59996  \n",
       "       unique                                              50894  \n",
       "       top     https://www.walmart.com/ip/Golden-Suits-Dlcd-O...  \n",
       "       freq                                                    6  \n",
       "rest   count                                                   0  \n",
       "       unique                                                  0  \n",
       "       top                                                   NaN  \n",
       "       freq                                                  NaN  \n",
       "videos count                                               58144  \n",
       "       unique                                              55728  \n",
       "       top             http://www.amazon.com/dp/B00GQQ77IU?psc=1  \n",
       "       freq                                                    4  "
      ]
     },
     "execution_count": 16,
     "metadata": {},
     "output_type": "execute_result"
    }
   ],
   "source": [
    "media.groupby('label').describe()"
   ]
  },
  {
   "cell_type": "code",
   "execution_count": 258,
   "metadata": {
    "collapsed": true
   },
   "outputs": [],
   "source": [
    "media_null = media.isnull().sum() #To check the values in each cols\n",
    "media_eval_null = media_eval.isnull().sum()"
   ]
  },
  {
   "cell_type": "code",
   "execution_count": 262,
   "metadata": {
    "collapsed": false
   },
   "outputs": [
    {
     "data": {
      "text/plain": [
       "storeId                 388591\n",
       "url                     388591\n",
       "additionalAttributes    388591\n",
       "breadcrumbs                911\n",
       "id                           0\n",
       "dtype: int64"
      ]
     },
     "execution_count": 262,
     "metadata": {},
     "output_type": "execute_result"
    }
   ],
   "source": [
    "media_eval_null"
   ]
  },
  {
   "cell_type": "code",
   "execution_count": 266,
   "metadata": {
    "collapsed": false
   },
   "outputs": [],
   "source": [
    "## Filling the NA Values\n",
    "media['url'] = media['url'].fillna('Not Available')\n",
    "media['additionalAttributes'] = media['additionalAttributes'].fillna('Not Available')\n",
    "media['breadcrumbs'] = media['breadcrumbs'].fillna('Not Available')"
   ]
  },
  {
   "cell_type": "code",
   "execution_count": 267,
   "metadata": {
    "collapsed": true
   },
   "outputs": [],
   "source": [
    "# Filling the NA Values\n",
    "media_eval['url'] = media_eval['url'].fillna('Not Available')\n",
    "media_eval['additionalAttributes'] = media_eval['additionalAttributes'].fillna('Not Available')\n",
    "media_eval['breadcrumbs'] = media_eval['breadcrumbs'].fillna('Not Available')"
   ]
  },
  {
   "cell_type": "code",
   "execution_count": 268,
   "metadata": {
    "collapsed": false
   },
   "outputs": [
    {
     "data": {
      "text/html": [
       "<div>\n",
       "<table border=\"1\" class=\"dataframe\">\n",
       "  <thead>\n",
       "    <tr style=\"text-align: right;\">\n",
       "      <th></th>\n",
       "      <th>storeId</th>\n",
       "      <th>url</th>\n",
       "      <th>additionalAttributes</th>\n",
       "      <th>breadcrumbs</th>\n",
       "      <th>label</th>\n",
       "    </tr>\n",
       "  </thead>\n",
       "  <tbody>\n",
       "    <tr>\n",
       "      <th>0</th>\n",
       "      <td>23</td>\n",
       "      <td>http://www.walmart.com/ip/best-of-toto%3A-pian...</td>\n",
       "      <td>Contributed by=Toto;Format=Paperback;Number of...</td>\n",
       "      <td>books &gt; art music &amp; photography &gt; music</td>\n",
       "      <td>books</td>\n",
       "    </tr>\n",
       "    <tr>\n",
       "      <th>1</th>\n",
       "      <td>NaN</td>\n",
       "      <td>Not Available</td>\n",
       "      <td>Not Available</td>\n",
       "      <td>best buy &gt; computers &amp; tablets &gt; computer card...</td>\n",
       "      <td>rest</td>\n",
       "    </tr>\n",
       "    <tr>\n",
       "      <th>2</th>\n",
       "      <td>23</td>\n",
       "      <td>https://www.walmart.com/ip/34441317</td>\n",
       "      <td>Performer=Cult Of Youth;Record Label=Vinyl;1.=...</td>\n",
       "      <td>music on cd or vinyl &gt; rock music on cd or vin...</td>\n",
       "      <td>music</td>\n",
       "    </tr>\n",
       "    <tr>\n",
       "      <th>3</th>\n",
       "      <td>26</td>\n",
       "      <td>https://www.overstock.com/Books-Movies-Music-G...</td>\n",
       "      <td>Format=Paperback;Copyright Year=2000;Publisher...</td>\n",
       "      <td>books &amp; media &gt; books &gt; cooking &amp; food books &gt;...</td>\n",
       "      <td>books</td>\n",
       "    </tr>\n",
       "    <tr>\n",
       "      <th>4</th>\n",
       "      <td>22</td>\n",
       "      <td>http://www.target.com/p/amore-version-ii/-/A-1...</td>\n",
       "      <td>Store Item Number (DPCI)=244-48-2721;Origin=Ma...</td>\n",
       "      <td>target &gt; movies, music &amp; books &gt; music &gt; class...</td>\n",
       "      <td>music</td>\n",
       "    </tr>\n",
       "    <tr>\n",
       "      <th>5</th>\n",
       "      <td>22</td>\n",
       "      <td>http://www.target.com/p/footprint-focus-guide-...</td>\n",
       "      <td>Number of Pages=175;Store Item Number (DPCI)=2...</td>\n",
       "      <td>target &gt; movies, music &amp; books &gt; books &gt; trave...</td>\n",
       "      <td>books</td>\n",
       "    </tr>\n",
       "    <tr>\n",
       "      <th>6</th>\n",
       "      <td>23</td>\n",
       "      <td>https://www.walmart.com/ip/Within-Reach/34635290</td>\n",
       "      <td>Performer=Theory Of Flight;1.=Track Listing No...</td>\n",
       "      <td>music on cd or vinyl &gt; rock music on cd or vin...</td>\n",
       "      <td>music</td>\n",
       "    </tr>\n",
       "    <tr>\n",
       "      <th>7</th>\n",
       "      <td>NaN</td>\n",
       "      <td>Not Available</td>\n",
       "      <td>Not Available</td>\n",
       "      <td>11320</td>\n",
       "      <td>rest</td>\n",
       "    </tr>\n",
       "    <tr>\n",
       "      <th>8</th>\n",
       "      <td>NaN</td>\n",
       "      <td>Not Available</td>\n",
       "      <td>Not Available</td>\n",
       "      <td>home &amp; garden &gt; home decor &gt; decorative access...</td>\n",
       "      <td>rest</td>\n",
       "    </tr>\n",
       "    <tr>\n",
       "      <th>9</th>\n",
       "      <td>24</td>\n",
       "      <td>http://www.amazon.com/dp/6305463530?psc=1</td>\n",
       "      <td>Writers=Jack Hill, David Kidd;Format=Color, Do...</td>\n",
       "      <td>movies &amp; tv &gt; genre for featured categories &gt; ...</td>\n",
       "      <td>videos</td>\n",
       "    </tr>\n",
       "    <tr>\n",
       "      <th>10</th>\n",
       "      <td>NaN</td>\n",
       "      <td>Not Available</td>\n",
       "      <td>Not Available</td>\n",
       "      <td>best buy &gt; appliances &gt; heating cooling &amp; air ...</td>\n",
       "      <td>rest</td>\n",
       "    </tr>\n",
       "    <tr>\n",
       "      <th>11</th>\n",
       "      <td>NaN</td>\n",
       "      <td>Not Available</td>\n",
       "      <td>Not Available</td>\n",
       "      <td>jewelry &amp; watch store &gt; jewelry store &gt; rings ...</td>\n",
       "      <td>rest</td>\n",
       "    </tr>\n",
       "    <tr>\n",
       "      <th>12</th>\n",
       "      <td>2627</td>\n",
       "      <td>https://www.barnesandnoble.com/w/easy-way-to-k...</td>\n",
       "      <td>Edition description:=REVISED;Publication date:...</td>\n",
       "      <td>books</td>\n",
       "      <td>books</td>\n",
       "    </tr>\n",
       "    <tr>\n",
       "      <th>13</th>\n",
       "      <td>NaN</td>\n",
       "      <td>Not Available</td>\n",
       "      <td>Not Available</td>\n",
       "      <td>tools &amp; home improvement &gt; painting supplies &amp;...</td>\n",
       "      <td>rest</td>\n",
       "    </tr>\n",
       "    <tr>\n",
       "      <th>14</th>\n",
       "      <td>22</td>\n",
       "      <td>http://www.target.com/p/seed-saving-paperback-...</td>\n",
       "      <td>Number of Pages=128;Store Item Number (DPCI)=2...</td>\n",
       "      <td>target &gt; movies, music &amp; books &gt; books &gt; see m...</td>\n",
       "      <td>books</td>\n",
       "    </tr>\n",
       "    <tr>\n",
       "      <th>15</th>\n",
       "      <td>NaN</td>\n",
       "      <td>Not Available</td>\n",
       "      <td>Not Available</td>\n",
       "      <td>clothing &amp; shoe store &gt; shoes &gt; women's shoes ...</td>\n",
       "      <td>rest</td>\n",
       "    </tr>\n",
       "    <tr>\n",
       "      <th>16</th>\n",
       "      <td>NaN</td>\n",
       "      <td>Not Available</td>\n",
       "      <td>Not Available</td>\n",
       "      <td>beauty &amp; personal care &gt; tools &amp; accessories &gt;...</td>\n",
       "      <td>rest</td>\n",
       "    </tr>\n",
       "    <tr>\n",
       "      <th>17</th>\n",
       "      <td>6075</td>\n",
       "      <td>https://www.abebooks.com/servlet/BookDetailsPL...</td>\n",
       "      <td>Title=Educational Research;Binding=Hardcover;E...</td>\n",
       "      <td>Not Available</td>\n",
       "      <td>books</td>\n",
       "    </tr>\n",
       "    <tr>\n",
       "      <th>18</th>\n",
       "      <td>NaN</td>\n",
       "      <td>Not Available</td>\n",
       "      <td>Not Available</td>\n",
       "      <td>target &gt; clothing &gt; women's clothing &gt; plus si...</td>\n",
       "      <td>rest</td>\n",
       "    </tr>\n",
       "    <tr>\n",
       "      <th>19</th>\n",
       "      <td>NaN</td>\n",
       "      <td>Not Available</td>\n",
       "      <td>Not Available</td>\n",
       "      <td>home  &gt;  decor  &gt;  curtains &amp; window treatmen...</td>\n",
       "      <td>rest</td>\n",
       "    </tr>\n",
       "    <tr>\n",
       "      <th>20</th>\n",
       "      <td>NaN</td>\n",
       "      <td>Not Available</td>\n",
       "      <td>Not Available</td>\n",
       "      <td>home goods &gt; furniture store &gt; kids' &amp; toddler...</td>\n",
       "      <td>rest</td>\n",
       "    </tr>\n",
       "    <tr>\n",
       "      <th>21</th>\n",
       "      <td>24</td>\n",
       "      <td>http://www.amazon.com/dp/0471646563?psc=1</td>\n",
       "      <td>edition=Hardcover;ISBN-13=978-0471646563;Produ...</td>\n",
       "      <td>books &gt; business &amp; money &gt; finance &gt; corporate...</td>\n",
       "      <td>books</td>\n",
       "    </tr>\n",
       "    <tr>\n",
       "      <th>22</th>\n",
       "      <td>NaN</td>\n",
       "      <td>Not Available</td>\n",
       "      <td>Not Available</td>\n",
       "      <td>clothing  &gt;  men  &gt;  men's bottoms  &gt;  men's ...</td>\n",
       "      <td>rest</td>\n",
       "    </tr>\n",
       "    <tr>\n",
       "      <th>23</th>\n",
       "      <td>NaN</td>\n",
       "      <td>Not Available</td>\n",
       "      <td>Not Available</td>\n",
       "      <td>best buy &gt; cameras &amp; camcorders &gt; digital came...</td>\n",
       "      <td>rest</td>\n",
       "    </tr>\n",
       "    <tr>\n",
       "      <th>24</th>\n",
       "      <td>NaN</td>\n",
       "      <td>Not Available</td>\n",
       "      <td>Not Available</td>\n",
       "      <td>best buy &gt; office &gt; office furniture &amp; storage...</td>\n",
       "      <td>rest</td>\n",
       "    </tr>\n",
       "    <tr>\n",
       "      <th>25</th>\n",
       "      <td>NaN</td>\n",
       "      <td>Not Available</td>\n",
       "      <td>Not Available</td>\n",
       "      <td>best buy &gt; office &gt; telephones &amp; communication...</td>\n",
       "      <td>rest</td>\n",
       "    </tr>\n",
       "    <tr>\n",
       "      <th>26</th>\n",
       "      <td>NaN</td>\n",
       "      <td>Not Available</td>\n",
       "      <td>Not Available</td>\n",
       "      <td>clothing &amp; shoe store &gt; women's clothing store...</td>\n",
       "      <td>rest</td>\n",
       "    </tr>\n",
       "    <tr>\n",
       "      <th>27</th>\n",
       "      <td>NaN</td>\n",
       "      <td>Not Available</td>\n",
       "      <td>Not Available</td>\n",
       "      <td>patio &amp; garden  &gt;  gardening &amp; lawn care  &gt;  ...</td>\n",
       "      <td>rest</td>\n",
       "    </tr>\n",
       "    <tr>\n",
       "      <th>28</th>\n",
       "      <td>22</td>\n",
       "      <td>https://www.target.com/p/weekend-with-the-best...</td>\n",
       "      <td>Store Item Number (DPCI)=248-41-1534;Origin=Ma...</td>\n",
       "      <td>target &gt; movies, music &amp; books &gt; books &gt; ficti...</td>\n",
       "      <td>books</td>\n",
       "    </tr>\n",
       "    <tr>\n",
       "      <th>29</th>\n",
       "      <td>24</td>\n",
       "      <td>http://www.amazon.com/dp/B0009X7BDC?psc=1</td>\n",
       "      <td>Format=Multiple Formats, AC-3, Color, Dolby, D...</td>\n",
       "      <td>movies &amp; tv &gt; genre for featured categories &gt; ...</td>\n",
       "      <td>videos</td>\n",
       "    </tr>\n",
       "    <tr>\n",
       "      <th>...</th>\n",
       "      <td>...</td>\n",
       "      <td>...</td>\n",
       "      <td>...</td>\n",
       "      <td>...</td>\n",
       "      <td>...</td>\n",
       "    </tr>\n",
       "    <tr>\n",
       "      <th>70</th>\n",
       "      <td>NaN</td>\n",
       "      <td>Not Available</td>\n",
       "      <td>Not Available</td>\n",
       "      <td>home  &gt;  decor  &gt;  curtains &amp; window treatmen...</td>\n",
       "      <td>rest</td>\n",
       "    </tr>\n",
       "    <tr>\n",
       "      <th>71</th>\n",
       "      <td>6075</td>\n",
       "      <td>https://www.abebooks.com/servlet/BookDetailsPL...</td>\n",
       "      <td>Title=Classical Literary Criticism (Penguin .....</td>\n",
       "      <td>various</td>\n",
       "      <td>books</td>\n",
       "    </tr>\n",
       "    <tr>\n",
       "      <th>72</th>\n",
       "      <td>NaN</td>\n",
       "      <td>Not Available</td>\n",
       "      <td>Not Available</td>\n",
       "      <td>newsstand</td>\n",
       "      <td>rest</td>\n",
       "    </tr>\n",
       "    <tr>\n",
       "      <th>73</th>\n",
       "      <td>23</td>\n",
       "      <td>http://www.walmart.com/ip/17190996</td>\n",
       "      <td>Contributed by=Goldberg, Burton;Format=Paperba...</td>\n",
       "      <td>books &gt; textbooks &gt; medical &gt; diseases &amp; condi...</td>\n",
       "      <td>books</td>\n",
       "    </tr>\n",
       "    <tr>\n",
       "      <th>74</th>\n",
       "      <td>NaN</td>\n",
       "      <td>Not Available</td>\n",
       "      <td>Not Available</td>\n",
       "      <td>jewelry &amp; watches  &gt;  jewelry  &gt;  rings  &gt;  d...</td>\n",
       "      <td>rest</td>\n",
       "    </tr>\n",
       "    <tr>\n",
       "      <th>75</th>\n",
       "      <td>24</td>\n",
       "      <td>http://www.amazon.com/dp/B00DU4F3ZK?psc=1</td>\n",
       "      <td>Original Release Date=June 26, 2013;Total Leng...</td>\n",
       "      <td>digital music &gt; albums &gt; dance &amp; electronic &gt; ...</td>\n",
       "      <td>music</td>\n",
       "    </tr>\n",
       "    <tr>\n",
       "      <th>76</th>\n",
       "      <td>NaN</td>\n",
       "      <td>Not Available</td>\n",
       "      <td>Not Available</td>\n",
       "      <td>toys &amp; games &gt; baby &amp; toddler toys &gt; balls</td>\n",
       "      <td>rest</td>\n",
       "    </tr>\n",
       "    <tr>\n",
       "      <th>77</th>\n",
       "      <td>NaN</td>\n",
       "      <td>Not Available</td>\n",
       "      <td>Not Available</td>\n",
       "      <td>best buy &gt; computers &amp; tablets &gt; computer card...</td>\n",
       "      <td>rest</td>\n",
       "    </tr>\n",
       "    <tr>\n",
       "      <th>78</th>\n",
       "      <td>NaN</td>\n",
       "      <td>Not Available</td>\n",
       "      <td>Not Available</td>\n",
       "      <td>home &amp; kitchen &gt; wall art &gt; paintings</td>\n",
       "      <td>rest</td>\n",
       "    </tr>\n",
       "    <tr>\n",
       "      <th>79</th>\n",
       "      <td>NaN</td>\n",
       "      <td>Not Available</td>\n",
       "      <td>Not Available</td>\n",
       "      <td>online shopping  &gt;  clothing &amp; shoes  &gt;  wome...</td>\n",
       "      <td>rest</td>\n",
       "    </tr>\n",
       "    <tr>\n",
       "      <th>80</th>\n",
       "      <td>NaN</td>\n",
       "      <td>Not Available</td>\n",
       "      <td>Not Available</td>\n",
       "      <td>best buy &gt; computers &amp; tablets &gt; laptops &gt; all...</td>\n",
       "      <td>rest</td>\n",
       "    </tr>\n",
       "    <tr>\n",
       "      <th>81</th>\n",
       "      <td>NaN</td>\n",
       "      <td>Not Available</td>\n",
       "      <td>Not Available</td>\n",
       "      <td>home improvement  &gt;  bathroom renovation  &gt;  ...</td>\n",
       "      <td>rest</td>\n",
       "    </tr>\n",
       "    <tr>\n",
       "      <th>82</th>\n",
       "      <td>NaN</td>\n",
       "      <td>Not Available</td>\n",
       "      <td>Not Available</td>\n",
       "      <td>clothing &amp; shoe store &gt; shoes &gt; women's shoes ...</td>\n",
       "      <td>rest</td>\n",
       "    </tr>\n",
       "    <tr>\n",
       "      <th>83</th>\n",
       "      <td>23</td>\n",
       "      <td>https://www.walmart.com/ip/Dance-Again-The-Hit...</td>\n",
       "      <td>2.=Goin' In - Featuring Flo Rida;15.=Que Hicis...</td>\n",
       "      <td>music on cd or vinyl &gt; pop music on cd or viny...</td>\n",
       "      <td>music</td>\n",
       "    </tr>\n",
       "    <tr>\n",
       "      <th>84</th>\n",
       "      <td>NaN</td>\n",
       "      <td>Not Available</td>\n",
       "      <td>Not Available</td>\n",
       "      <td>home improvement &gt; hardware &gt; cabinet hardware...</td>\n",
       "      <td>rest</td>\n",
       "    </tr>\n",
       "    <tr>\n",
       "      <th>85</th>\n",
       "      <td>NaN</td>\n",
       "      <td>Not Available</td>\n",
       "      <td>Not Available</td>\n",
       "      <td>home &amp; kitchen &gt; home décor &gt; candles &amp; holder...</td>\n",
       "      <td>rest</td>\n",
       "    </tr>\n",
       "    <tr>\n",
       "      <th>86</th>\n",
       "      <td>23</td>\n",
       "      <td>https://www.walmart.com/ip/34450579</td>\n",
       "      <td>Performer=Jamiroquai;Record Label=WHAT RECORDS</td>\n",
       "      <td>music on cd or vinyl &gt; dance &gt; dj music on cd ...</td>\n",
       "      <td>music</td>\n",
       "    </tr>\n",
       "    <tr>\n",
       "      <th>87</th>\n",
       "      <td>NaN</td>\n",
       "      <td>Not Available</td>\n",
       "      <td>Not Available</td>\n",
       "      <td>home &amp; kitchen &gt; home décor &gt; area rugs runner...</td>\n",
       "      <td>rest</td>\n",
       "    </tr>\n",
       "    <tr>\n",
       "      <th>88</th>\n",
       "      <td>2627</td>\n",
       "      <td>https://www.barnesandnoble.com/w/doolittle-pix...</td>\n",
       "      <td>Format=CD - $25.47;Release Date:=12/02/2014;UP...</td>\n",
       "      <td>music</td>\n",
       "      <td>music</td>\n",
       "    </tr>\n",
       "    <tr>\n",
       "      <th>89</th>\n",
       "      <td>NaN</td>\n",
       "      <td>Not Available</td>\n",
       "      <td>Not Available</td>\n",
       "      <td>best buy &gt; home &gt; home automation &amp; security &gt;...</td>\n",
       "      <td>rest</td>\n",
       "    </tr>\n",
       "    <tr>\n",
       "      <th>90</th>\n",
       "      <td>NaN</td>\n",
       "      <td>Not Available</td>\n",
       "      <td>Not Available</td>\n",
       "      <td>best buy &gt; appliances &gt; ranges, cooktops &amp; ove...</td>\n",
       "      <td>rest</td>\n",
       "    </tr>\n",
       "    <tr>\n",
       "      <th>91</th>\n",
       "      <td>22</td>\n",
       "      <td>http://www.target.com/p/double-fudge-brownie-m...</td>\n",
       "      <td>Number of Pages=387;Store Item Number (DPCI)=2...</td>\n",
       "      <td>target &gt; movies, music &amp; books &gt; books &gt; ficti...</td>\n",
       "      <td>books</td>\n",
       "    </tr>\n",
       "    <tr>\n",
       "      <th>92</th>\n",
       "      <td>NaN</td>\n",
       "      <td>Not Available</td>\n",
       "      <td>Not Available</td>\n",
       "      <td>personal care &gt; hair care &gt; hair-cutting tools</td>\n",
       "      <td>rest</td>\n",
       "    </tr>\n",
       "    <tr>\n",
       "      <th>93</th>\n",
       "      <td>NaN</td>\n",
       "      <td>Not Available</td>\n",
       "      <td>Not Available</td>\n",
       "      <td>target  &gt;  clothing  &gt;  men's clothing  &gt;  bi...</td>\n",
       "      <td>rest</td>\n",
       "    </tr>\n",
       "    <tr>\n",
       "      <th>94</th>\n",
       "      <td>NaN</td>\n",
       "      <td>Not Available</td>\n",
       "      <td>Not Available</td>\n",
       "      <td>clothing &amp; shoe store &gt; shoes &gt; women's shoes ...</td>\n",
       "      <td>rest</td>\n",
       "    </tr>\n",
       "    <tr>\n",
       "      <th>95</th>\n",
       "      <td>NaN</td>\n",
       "      <td>Not Available</td>\n",
       "      <td>Not Available</td>\n",
       "      <td>online shopping  &gt;  home &amp; garden  &gt;  home de...</td>\n",
       "      <td>rest</td>\n",
       "    </tr>\n",
       "    <tr>\n",
       "      <th>96</th>\n",
       "      <td>24</td>\n",
       "      <td>http://www.amazon.com/dp/B0002CHIJM?psc=1</td>\n",
       "      <td>Format=Multiple Formats, Color, NTSC;Run Time=...</td>\n",
       "      <td>cds &amp; vinyl &gt; christian &gt; cds &amp; vinyl &gt; gospel...</td>\n",
       "      <td>music</td>\n",
       "    </tr>\n",
       "    <tr>\n",
       "      <th>97</th>\n",
       "      <td>NaN</td>\n",
       "      <td>Not Available</td>\n",
       "      <td>Not Available</td>\n",
       "      <td>sports &amp; outdoors &gt; fan shop &gt; clothing &gt; polo...</td>\n",
       "      <td>rest</td>\n",
       "    </tr>\n",
       "    <tr>\n",
       "      <th>98</th>\n",
       "      <td>NaN</td>\n",
       "      <td>Not Available</td>\n",
       "      <td>Not Available</td>\n",
       "      <td>online shopping  &gt;  home &amp; garden  &gt;  home de...</td>\n",
       "      <td>rest</td>\n",
       "    </tr>\n",
       "    <tr>\n",
       "      <th>99</th>\n",
       "      <td>NaN</td>\n",
       "      <td>Not Available</td>\n",
       "      <td>Not Available</td>\n",
       "      <td>car</td>\n",
       "      <td>rest</td>\n",
       "    </tr>\n",
       "  </tbody>\n",
       "</table>\n",
       "<p>100 rows × 5 columns</p>\n",
       "</div>"
      ],
      "text/plain": [
       "   storeId                                                url  \\\n",
       "0       23  http://www.walmart.com/ip/best-of-toto%3A-pian...   \n",
       "1      NaN                                      Not Available   \n",
       "2       23                https://www.walmart.com/ip/34441317   \n",
       "3       26  https://www.overstock.com/Books-Movies-Music-G...   \n",
       "4       22  http://www.target.com/p/amore-version-ii/-/A-1...   \n",
       "5       22  http://www.target.com/p/footprint-focus-guide-...   \n",
       "6       23   https://www.walmart.com/ip/Within-Reach/34635290   \n",
       "7      NaN                                      Not Available   \n",
       "8      NaN                                      Not Available   \n",
       "9       24          http://www.amazon.com/dp/6305463530?psc=1   \n",
       "10     NaN                                      Not Available   \n",
       "11     NaN                                      Not Available   \n",
       "12    2627  https://www.barnesandnoble.com/w/easy-way-to-k...   \n",
       "13     NaN                                      Not Available   \n",
       "14      22  http://www.target.com/p/seed-saving-paperback-...   \n",
       "15     NaN                                      Not Available   \n",
       "16     NaN                                      Not Available   \n",
       "17    6075  https://www.abebooks.com/servlet/BookDetailsPL...   \n",
       "18     NaN                                      Not Available   \n",
       "19     NaN                                      Not Available   \n",
       "20     NaN                                      Not Available   \n",
       "21      24          http://www.amazon.com/dp/0471646563?psc=1   \n",
       "22     NaN                                      Not Available   \n",
       "23     NaN                                      Not Available   \n",
       "24     NaN                                      Not Available   \n",
       "25     NaN                                      Not Available   \n",
       "26     NaN                                      Not Available   \n",
       "27     NaN                                      Not Available   \n",
       "28      22  https://www.target.com/p/weekend-with-the-best...   \n",
       "29      24          http://www.amazon.com/dp/B0009X7BDC?psc=1   \n",
       "..     ...                                                ...   \n",
       "70     NaN                                      Not Available   \n",
       "71    6075  https://www.abebooks.com/servlet/BookDetailsPL...   \n",
       "72     NaN                                      Not Available   \n",
       "73      23                 http://www.walmart.com/ip/17190996   \n",
       "74     NaN                                      Not Available   \n",
       "75      24          http://www.amazon.com/dp/B00DU4F3ZK?psc=1   \n",
       "76     NaN                                      Not Available   \n",
       "77     NaN                                      Not Available   \n",
       "78     NaN                                      Not Available   \n",
       "79     NaN                                      Not Available   \n",
       "80     NaN                                      Not Available   \n",
       "81     NaN                                      Not Available   \n",
       "82     NaN                                      Not Available   \n",
       "83      23  https://www.walmart.com/ip/Dance-Again-The-Hit...   \n",
       "84     NaN                                      Not Available   \n",
       "85     NaN                                      Not Available   \n",
       "86      23                https://www.walmart.com/ip/34450579   \n",
       "87     NaN                                      Not Available   \n",
       "88    2627  https://www.barnesandnoble.com/w/doolittle-pix...   \n",
       "89     NaN                                      Not Available   \n",
       "90     NaN                                      Not Available   \n",
       "91      22  http://www.target.com/p/double-fudge-brownie-m...   \n",
       "92     NaN                                      Not Available   \n",
       "93     NaN                                      Not Available   \n",
       "94     NaN                                      Not Available   \n",
       "95     NaN                                      Not Available   \n",
       "96      24          http://www.amazon.com/dp/B0002CHIJM?psc=1   \n",
       "97     NaN                                      Not Available   \n",
       "98     NaN                                      Not Available   \n",
       "99     NaN                                      Not Available   \n",
       "\n",
       "                                 additionalAttributes  \\\n",
       "0   Contributed by=Toto;Format=Paperback;Number of...   \n",
       "1                                       Not Available   \n",
       "2   Performer=Cult Of Youth;Record Label=Vinyl;1.=...   \n",
       "3   Format=Paperback;Copyright Year=2000;Publisher...   \n",
       "4   Store Item Number (DPCI)=244-48-2721;Origin=Ma...   \n",
       "5   Number of Pages=175;Store Item Number (DPCI)=2...   \n",
       "6   Performer=Theory Of Flight;1.=Track Listing No...   \n",
       "7                                       Not Available   \n",
       "8                                       Not Available   \n",
       "9   Writers=Jack Hill, David Kidd;Format=Color, Do...   \n",
       "10                                      Not Available   \n",
       "11                                      Not Available   \n",
       "12  Edition description:=REVISED;Publication date:...   \n",
       "13                                      Not Available   \n",
       "14  Number of Pages=128;Store Item Number (DPCI)=2...   \n",
       "15                                      Not Available   \n",
       "16                                      Not Available   \n",
       "17  Title=Educational Research;Binding=Hardcover;E...   \n",
       "18                                      Not Available   \n",
       "19                                      Not Available   \n",
       "20                                      Not Available   \n",
       "21  edition=Hardcover;ISBN-13=978-0471646563;Produ...   \n",
       "22                                      Not Available   \n",
       "23                                      Not Available   \n",
       "24                                      Not Available   \n",
       "25                                      Not Available   \n",
       "26                                      Not Available   \n",
       "27                                      Not Available   \n",
       "28  Store Item Number (DPCI)=248-41-1534;Origin=Ma...   \n",
       "29  Format=Multiple Formats, AC-3, Color, Dolby, D...   \n",
       "..                                                ...   \n",
       "70                                      Not Available   \n",
       "71  Title=Classical Literary Criticism (Penguin .....   \n",
       "72                                      Not Available   \n",
       "73  Contributed by=Goldberg, Burton;Format=Paperba...   \n",
       "74                                      Not Available   \n",
       "75  Original Release Date=June 26, 2013;Total Leng...   \n",
       "76                                      Not Available   \n",
       "77                                      Not Available   \n",
       "78                                      Not Available   \n",
       "79                                      Not Available   \n",
       "80                                      Not Available   \n",
       "81                                      Not Available   \n",
       "82                                      Not Available   \n",
       "83  2.=Goin' In - Featuring Flo Rida;15.=Que Hicis...   \n",
       "84                                      Not Available   \n",
       "85                                      Not Available   \n",
       "86     Performer=Jamiroquai;Record Label=WHAT RECORDS   \n",
       "87                                      Not Available   \n",
       "88  Format=CD - $25.47;Release Date:=12/02/2014;UP...   \n",
       "89                                      Not Available   \n",
       "90                                      Not Available   \n",
       "91  Number of Pages=387;Store Item Number (DPCI)=2...   \n",
       "92                                      Not Available   \n",
       "93                                      Not Available   \n",
       "94                                      Not Available   \n",
       "95                                      Not Available   \n",
       "96  Format=Multiple Formats, Color, NTSC;Run Time=...   \n",
       "97                                      Not Available   \n",
       "98                                      Not Available   \n",
       "99                                      Not Available   \n",
       "\n",
       "                                          breadcrumbs   label  \n",
       "0             books > art music & photography > music   books  \n",
       "1   best buy > computers & tablets > computer card...    rest  \n",
       "2   music on cd or vinyl > rock music on cd or vin...   music  \n",
       "3   books & media > books > cooking & food books >...   books  \n",
       "4   target > movies, music & books > music > class...   music  \n",
       "5   target > movies, music & books > books > trave...   books  \n",
       "6   music on cd or vinyl > rock music on cd or vin...   music  \n",
       "7                                               11320    rest  \n",
       "8   home & garden > home decor > decorative access...    rest  \n",
       "9   movies & tv > genre for featured categories > ...  videos  \n",
       "10  best buy > appliances > heating cooling & air ...    rest  \n",
       "11  jewelry & watch store > jewelry store > rings ...    rest  \n",
       "12                                              books   books  \n",
       "13  tools & home improvement > painting supplies &...    rest  \n",
       "14  target > movies, music & books > books > see m...   books  \n",
       "15  clothing & shoe store > shoes > women's shoes ...    rest  \n",
       "16  beauty & personal care > tools & accessories >...    rest  \n",
       "17                                      Not Available   books  \n",
       "18  target > clothing > women's clothing > plus si...    rest  \n",
       "19   home  >  decor  >  curtains & window treatmen...    rest  \n",
       "20  home goods > furniture store > kids' & toddler...    rest  \n",
       "21  books > business & money > finance > corporate...   books  \n",
       "22   clothing  >  men  >  men's bottoms  >  men's ...    rest  \n",
       "23  best buy > cameras & camcorders > digital came...    rest  \n",
       "24  best buy > office > office furniture & storage...    rest  \n",
       "25  best buy > office > telephones & communication...    rest  \n",
       "26  clothing & shoe store > women's clothing store...    rest  \n",
       "27   patio & garden  >  gardening & lawn care  >  ...    rest  \n",
       "28  target > movies, music & books > books > ficti...   books  \n",
       "29  movies & tv > genre for featured categories > ...  videos  \n",
       "..                                                ...     ...  \n",
       "70   home  >  decor  >  curtains & window treatmen...    rest  \n",
       "71                                            various   books  \n",
       "72                                          newsstand    rest  \n",
       "73  books > textbooks > medical > diseases & condi...   books  \n",
       "74   jewelry & watches  >  jewelry  >  rings  >  d...    rest  \n",
       "75  digital music > albums > dance & electronic > ...   music  \n",
       "76         toys & games > baby & toddler toys > balls    rest  \n",
       "77  best buy > computers & tablets > computer card...    rest  \n",
       "78              home & kitchen > wall art > paintings    rest  \n",
       "79   online shopping  >  clothing & shoes  >  wome...    rest  \n",
       "80  best buy > computers & tablets > laptops > all...    rest  \n",
       "81   home improvement  >  bathroom renovation  >  ...    rest  \n",
       "82  clothing & shoe store > shoes > women's shoes ...    rest  \n",
       "83  music on cd or vinyl > pop music on cd or viny...   music  \n",
       "84  home improvement > hardware > cabinet hardware...    rest  \n",
       "85  home & kitchen > home décor > candles & holder...    rest  \n",
       "86  music on cd or vinyl > dance > dj music on cd ...   music  \n",
       "87  home & kitchen > home décor > area rugs runner...    rest  \n",
       "88                                              music   music  \n",
       "89  best buy > home > home automation & security >...    rest  \n",
       "90  best buy > appliances > ranges, cooktops & ove...    rest  \n",
       "91  target > movies, music & books > books > ficti...   books  \n",
       "92     personal care > hair care > hair-cutting tools    rest  \n",
       "93   target  >  clothing  >  men's clothing  >  bi...    rest  \n",
       "94  clothing & shoe store > shoes > women's shoes ...    rest  \n",
       "95   online shopping  >  home & garden  >  home de...    rest  \n",
       "96  cds & vinyl > christian > cds & vinyl > gospel...   music  \n",
       "97  sports & outdoors > fan shop > clothing > polo...    rest  \n",
       "98   online shopping  >  home & garden  >  home de...    rest  \n",
       "99                                                car    rest  \n",
       "\n",
       "[100 rows x 5 columns]"
      ]
     },
     "execution_count": 268,
     "metadata": {},
     "output_type": "execute_result"
    }
   ],
   "source": [
    "media[0:100]"
   ]
  },
  {
   "cell_type": "code",
   "execution_count": 269,
   "metadata": {
    "collapsed": false
   },
   "outputs": [
    {
     "data": {
      "text/html": [
       "<div>\n",
       "<table border=\"1\" class=\"dataframe\">\n",
       "  <thead>\n",
       "    <tr style=\"text-align: right;\">\n",
       "      <th></th>\n",
       "      <th>storeId</th>\n",
       "      <th>url</th>\n",
       "      <th>additionalAttributes</th>\n",
       "      <th>breadcrumbs</th>\n",
       "      <th>id</th>\n",
       "    </tr>\n",
       "  </thead>\n",
       "  <tbody>\n",
       "    <tr>\n",
       "      <th>0</th>\n",
       "      <td>NaN</td>\n",
       "      <td>Not Available</td>\n",
       "      <td>Not Available</td>\n",
       "      <td>baby products &gt; bathing &amp; skin care &gt; washclot...</td>\n",
       "      <td>8589934592</td>\n",
       "    </tr>\n",
       "    <tr>\n",
       "      <th>1</th>\n",
       "      <td>NaN</td>\n",
       "      <td>Not Available</td>\n",
       "      <td>Not Available</td>\n",
       "      <td>online shopping  &gt;  home &amp; garden  &gt;  art gal...</td>\n",
       "      <td>8589934593</td>\n",
       "    </tr>\n",
       "    <tr>\n",
       "      <th>2</th>\n",
       "      <td>NaN</td>\n",
       "      <td>Not Available</td>\n",
       "      <td>Not Available</td>\n",
       "      <td>home goods &gt; kitchen &amp; dining &gt; table linens &amp;...</td>\n",
       "      <td>8589934594</td>\n",
       "    </tr>\n",
       "    <tr>\n",
       "      <th>3</th>\n",
       "      <td>NaN</td>\n",
       "      <td>Not Available</td>\n",
       "      <td>Not Available</td>\n",
       "      <td>11320</td>\n",
       "      <td>8589934595</td>\n",
       "    </tr>\n",
       "    <tr>\n",
       "      <th>4</th>\n",
       "      <td>NaN</td>\n",
       "      <td>Not Available</td>\n",
       "      <td>Not Available</td>\n",
       "      <td>tools &amp; home improvement &gt; kitchen &amp; bath fixt...</td>\n",
       "      <td>8589934596</td>\n",
       "    </tr>\n",
       "    <tr>\n",
       "      <th>5</th>\n",
       "      <td>NaN</td>\n",
       "      <td>Not Available</td>\n",
       "      <td>Not Available</td>\n",
       "      <td>best buy &gt; cameras &amp; camcorders &gt; digital came...</td>\n",
       "      <td>8589934597</td>\n",
       "    </tr>\n",
       "    <tr>\n",
       "      <th>6</th>\n",
       "      <td>NaN</td>\n",
       "      <td>Not Available</td>\n",
       "      <td>Not Available</td>\n",
       "      <td>clothing &gt; boys &gt; boys' jackets &amp; outerwear</td>\n",
       "      <td>8589934598</td>\n",
       "    </tr>\n",
       "    <tr>\n",
       "      <th>7</th>\n",
       "      <td>NaN</td>\n",
       "      <td>Not Available</td>\n",
       "      <td>Not Available</td>\n",
       "      <td>target  &gt;  clothing  &gt;  women's clothing  &gt;  ...</td>\n",
       "      <td>8589934599</td>\n",
       "    </tr>\n",
       "    <tr>\n",
       "      <th>8</th>\n",
       "      <td>NaN</td>\n",
       "      <td>Not Available</td>\n",
       "      <td>Not Available</td>\n",
       "      <td>target &gt; sports, fitness &amp; outdoors &gt; fan shop...</td>\n",
       "      <td>8589934600</td>\n",
       "    </tr>\n",
       "    <tr>\n",
       "      <th>9</th>\n",
       "      <td>NaN</td>\n",
       "      <td>Not Available</td>\n",
       "      <td>Not Available</td>\n",
       "      <td>toys &amp; games</td>\n",
       "      <td>8589934601</td>\n",
       "    </tr>\n",
       "    <tr>\n",
       "      <th>10</th>\n",
       "      <td>NaN</td>\n",
       "      <td>Not Available</td>\n",
       "      <td>Not Available</td>\n",
       "      <td>target &gt; shoes &gt; women's shoes &gt; sandals &gt; fli...</td>\n",
       "      <td>8589934602</td>\n",
       "    </tr>\n",
       "    <tr>\n",
       "      <th>11</th>\n",
       "      <td>NaN</td>\n",
       "      <td>Not Available</td>\n",
       "      <td>Not Available</td>\n",
       "      <td>online shopping  &gt;  home &amp; garden  &gt;  art gal...</td>\n",
       "      <td>8589934603</td>\n",
       "    </tr>\n",
       "    <tr>\n",
       "      <th>12</th>\n",
       "      <td>NaN</td>\n",
       "      <td>Not Available</td>\n",
       "      <td>Not Available</td>\n",
       "      <td>home  &gt;  decor  &gt;  curtains &amp; window covering...</td>\n",
       "      <td>8589934604</td>\n",
       "    </tr>\n",
       "    <tr>\n",
       "      <th>13</th>\n",
       "      <td>NaN</td>\n",
       "      <td>Not Available</td>\n",
       "      <td>Not Available</td>\n",
       "      <td>best buy &gt; health fitness &amp; beauty &gt; personal ...</td>\n",
       "      <td>8589934605</td>\n",
       "    </tr>\n",
       "    <tr>\n",
       "      <th>14</th>\n",
       "      <td>NaN</td>\n",
       "      <td>Not Available</td>\n",
       "      <td>Not Available</td>\n",
       "      <td>patio &amp; garden  &gt;  gardening &amp; lawn care  &gt;  ...</td>\n",
       "      <td>8589934606</td>\n",
       "    </tr>\n",
       "    <tr>\n",
       "      <th>15</th>\n",
       "      <td>NaN</td>\n",
       "      <td>Not Available</td>\n",
       "      <td>Not Available</td>\n",
       "      <td>office products &gt; office &amp; school supplies &gt; p...</td>\n",
       "      <td>8589934607</td>\n",
       "    </tr>\n",
       "    <tr>\n",
       "      <th>16</th>\n",
       "      <td>NaN</td>\n",
       "      <td>Not Available</td>\n",
       "      <td>Not Available</td>\n",
       "      <td>target &gt; clearance &gt; clothing &amp; accessories &gt; ...</td>\n",
       "      <td>8589934608</td>\n",
       "    </tr>\n",
       "    <tr>\n",
       "      <th>17</th>\n",
       "      <td>NaN</td>\n",
       "      <td>Not Available</td>\n",
       "      <td>Not Available</td>\n",
       "      <td>best buy &gt; cell phones &gt; cell phone accessorie...</td>\n",
       "      <td>8589934609</td>\n",
       "    </tr>\n",
       "    <tr>\n",
       "      <th>18</th>\n",
       "      <td>NaN</td>\n",
       "      <td>Not Available</td>\n",
       "      <td>Not Available</td>\n",
       "      <td>home improvement &gt; hardware &gt; cabinet hardware...</td>\n",
       "      <td>8589934610</td>\n",
       "    </tr>\n",
       "    <tr>\n",
       "      <th>19</th>\n",
       "      <td>NaN</td>\n",
       "      <td>Not Available</td>\n",
       "      <td>Not Available</td>\n",
       "      <td>best buy &gt; computers &amp; tablets &gt; ipad &amp; tablet...</td>\n",
       "      <td>8589934611</td>\n",
       "    </tr>\n",
       "    <tr>\n",
       "      <th>20</th>\n",
       "      <td>NaN</td>\n",
       "      <td>Not Available</td>\n",
       "      <td>Not Available</td>\n",
       "      <td>clothing &amp; shoes &gt; accessories &gt; hats &gt; women'...</td>\n",
       "      <td>8589934612</td>\n",
       "    </tr>\n",
       "    <tr>\n",
       "      <th>21</th>\n",
       "      <td>NaN</td>\n",
       "      <td>Not Available</td>\n",
       "      <td>Not Available</td>\n",
       "      <td>beauty &gt; fragrances &gt; all fragrances</td>\n",
       "      <td>8589934613</td>\n",
       "    </tr>\n",
       "    <tr>\n",
       "      <th>22</th>\n",
       "      <td>26</td>\n",
       "      <td>https://www.overstock.com/Books-Movies-Music-G...</td>\n",
       "      <td>Format=Paperback;Copyright Year=2013;Series Na...</td>\n",
       "      <td>books &amp; media &gt; books &gt; science books &gt; genera...</td>\n",
       "      <td>8589934614</td>\n",
       "    </tr>\n",
       "    <tr>\n",
       "      <th>23</th>\n",
       "      <td>NaN</td>\n",
       "      <td>Not Available</td>\n",
       "      <td>Not Available</td>\n",
       "      <td>jewelry &amp; watches  &gt;  jewelry  &gt;  wedding rin...</td>\n",
       "      <td>8589934615</td>\n",
       "    </tr>\n",
       "    <tr>\n",
       "      <th>24</th>\n",
       "      <td>NaN</td>\n",
       "      <td>Not Available</td>\n",
       "      <td>Not Available</td>\n",
       "      <td>online shopping  &gt;  clothing &amp; shoes  &gt;  shoe...</td>\n",
       "      <td>8589934616</td>\n",
       "    </tr>\n",
       "    <tr>\n",
       "      <th>25</th>\n",
       "      <td>NaN</td>\n",
       "      <td>Not Available</td>\n",
       "      <td>Not Available</td>\n",
       "      <td>target &gt; home &gt; home decor &gt; rugs &gt; area rugs</td>\n",
       "      <td>8589934617</td>\n",
       "    </tr>\n",
       "    <tr>\n",
       "      <th>26</th>\n",
       "      <td>NaN</td>\n",
       "      <td>Not Available</td>\n",
       "      <td>Not Available</td>\n",
       "      <td>tools &amp; home improvement &gt; electrical &gt; breake...</td>\n",
       "      <td>8589934618</td>\n",
       "    </tr>\n",
       "    <tr>\n",
       "      <th>27</th>\n",
       "      <td>NaN</td>\n",
       "      <td>Not Available</td>\n",
       "      <td>Not Available</td>\n",
       "      <td>health &amp; household &gt; vitamins &amp; dietary supple...</td>\n",
       "      <td>8589934619</td>\n",
       "    </tr>\n",
       "    <tr>\n",
       "      <th>28</th>\n",
       "      <td>NaN</td>\n",
       "      <td>Not Available</td>\n",
       "      <td>Not Available</td>\n",
       "      <td>home improvement &gt; bathroom renovation &gt; bathr...</td>\n",
       "      <td>8589934620</td>\n",
       "    </tr>\n",
       "    <tr>\n",
       "      <th>29</th>\n",
       "      <td>24</td>\n",
       "      <td>https://www.amazon.com/dp/1520591861?psc=1</td>\n",
       "      <td>author=Visit Amazon's R.S. Mollison-Read Pages...</td>\n",
       "      <td>books &gt; literature &amp; fiction &gt; genre fiction &gt;...</td>\n",
       "      <td>8589934621</td>\n",
       "    </tr>\n",
       "    <tr>\n",
       "      <th>...</th>\n",
       "      <td>...</td>\n",
       "      <td>...</td>\n",
       "      <td>...</td>\n",
       "      <td>...</td>\n",
       "      <td>...</td>\n",
       "    </tr>\n",
       "    <tr>\n",
       "      <th>70</th>\n",
       "      <td>NaN</td>\n",
       "      <td>Not Available</td>\n",
       "      <td>Not Available</td>\n",
       "      <td>11320</td>\n",
       "      <td>8589934662</td>\n",
       "    </tr>\n",
       "    <tr>\n",
       "      <th>71</th>\n",
       "      <td>NaN</td>\n",
       "      <td>Not Available</td>\n",
       "      <td>Not Available</td>\n",
       "      <td>target &gt; patio &amp; garden &gt; patio furniture &gt; pa...</td>\n",
       "      <td>8589934663</td>\n",
       "    </tr>\n",
       "    <tr>\n",
       "      <th>72</th>\n",
       "      <td>NaN</td>\n",
       "      <td>Not Available</td>\n",
       "      <td>Not Available</td>\n",
       "      <td>health &amp; household &gt; medical supplies &amp; equipm...</td>\n",
       "      <td>8589934664</td>\n",
       "    </tr>\n",
       "    <tr>\n",
       "      <th>73</th>\n",
       "      <td>NaN</td>\n",
       "      <td>Not Available</td>\n",
       "      <td>Not Available</td>\n",
       "      <td>automotive</td>\n",
       "      <td>8589934665</td>\n",
       "    </tr>\n",
       "    <tr>\n",
       "      <th>74</th>\n",
       "      <td>NaN</td>\n",
       "      <td>Not Available</td>\n",
       "      <td>Not Available</td>\n",
       "      <td>target &gt; clothing &gt; women's clothing &gt; intimat...</td>\n",
       "      <td>8589934666</td>\n",
       "    </tr>\n",
       "    <tr>\n",
       "      <th>75</th>\n",
       "      <td>NaN</td>\n",
       "      <td>Not Available</td>\n",
       "      <td>Not Available</td>\n",
       "      <td>health &gt; vitamins &gt; children's vitamins</td>\n",
       "      <td>8589934667</td>\n",
       "    </tr>\n",
       "    <tr>\n",
       "      <th>76</th>\n",
       "      <td>NaN</td>\n",
       "      <td>Not Available</td>\n",
       "      <td>Not Available</td>\n",
       "      <td>household essentials &gt; cleaning supplies &gt; all...</td>\n",
       "      <td>8589934668</td>\n",
       "    </tr>\n",
       "    <tr>\n",
       "      <th>77</th>\n",
       "      <td>NaN</td>\n",
       "      <td>Not Available</td>\n",
       "      <td>Not Available</td>\n",
       "      <td>best buy &gt; home &gt; toys games &amp; hobbies &gt; learn...</td>\n",
       "      <td>8589934669</td>\n",
       "    </tr>\n",
       "    <tr>\n",
       "      <th>78</th>\n",
       "      <td>NaN</td>\n",
       "      <td>Not Available</td>\n",
       "      <td>Not Available</td>\n",
       "      <td>best buy &gt; appliances &gt; heating cooling &amp; air ...</td>\n",
       "      <td>8589934670</td>\n",
       "    </tr>\n",
       "    <tr>\n",
       "      <th>79</th>\n",
       "      <td>NaN</td>\n",
       "      <td>Not Available</td>\n",
       "      <td>Not Available</td>\n",
       "      <td>best buy &gt; cell phones &gt; cell phone accessorie...</td>\n",
       "      <td>8589934671</td>\n",
       "    </tr>\n",
       "    <tr>\n",
       "      <th>80</th>\n",
       "      <td>NaN</td>\n",
       "      <td>Not Available</td>\n",
       "      <td>Not Available</td>\n",
       "      <td>clothing shoes &amp; jewelry &gt; women &gt; clothing &gt; ...</td>\n",
       "      <td>8589934672</td>\n",
       "    </tr>\n",
       "    <tr>\n",
       "      <th>81</th>\n",
       "      <td>NaN</td>\n",
       "      <td>Not Available</td>\n",
       "      <td>Not Available</td>\n",
       "      <td>home &gt; decor &gt; rugs &gt; area rugs</td>\n",
       "      <td>8589934673</td>\n",
       "    </tr>\n",
       "    <tr>\n",
       "      <th>82</th>\n",
       "      <td>NaN</td>\n",
       "      <td>Not Available</td>\n",
       "      <td>Not Available</td>\n",
       "      <td>best buy &gt; computers &amp; tablets &gt; networking &amp; ...</td>\n",
       "      <td>8589934674</td>\n",
       "    </tr>\n",
       "    <tr>\n",
       "      <th>83</th>\n",
       "      <td>NaN</td>\n",
       "      <td>Not Available</td>\n",
       "      <td>Not Available</td>\n",
       "      <td>home  &gt;  decor  &gt;  curtains &amp; window treatmen...</td>\n",
       "      <td>8589934675</td>\n",
       "    </tr>\n",
       "    <tr>\n",
       "      <th>84</th>\n",
       "      <td>NaN</td>\n",
       "      <td>Not Available</td>\n",
       "      <td>Not Available</td>\n",
       "      <td>home page &gt; party &amp; occasions &gt; crafts &gt; scrap...</td>\n",
       "      <td>8589934676</td>\n",
       "    </tr>\n",
       "    <tr>\n",
       "      <th>85</th>\n",
       "      <td>NaN</td>\n",
       "      <td>Not Available</td>\n",
       "      <td>Not Available</td>\n",
       "      <td>target &gt; gift finder &gt; gifts for baby &gt; gear</td>\n",
       "      <td>8589934677</td>\n",
       "    </tr>\n",
       "    <tr>\n",
       "      <th>86</th>\n",
       "      <td>NaN</td>\n",
       "      <td>Not Available</td>\n",
       "      <td>Not Available</td>\n",
       "      <td>target &gt; clothing &gt; women's clothing &gt; swimsui...</td>\n",
       "      <td>8589934678</td>\n",
       "    </tr>\n",
       "    <tr>\n",
       "      <th>87</th>\n",
       "      <td>NaN</td>\n",
       "      <td>Not Available</td>\n",
       "      <td>Not Available</td>\n",
       "      <td>online shopping  &gt;  clothing &amp; shoes  &gt;  wome...</td>\n",
       "      <td>8589934679</td>\n",
       "    </tr>\n",
       "    <tr>\n",
       "      <th>88</th>\n",
       "      <td>NaN</td>\n",
       "      <td>Not Available</td>\n",
       "      <td>Not Available</td>\n",
       "      <td>office &gt; office supplies &gt; labels &amp; stickers</td>\n",
       "      <td>8589934680</td>\n",
       "    </tr>\n",
       "    <tr>\n",
       "      <th>89</th>\n",
       "      <td>NaN</td>\n",
       "      <td>Not Available</td>\n",
       "      <td>Not Available</td>\n",
       "      <td>target &gt; clothing &gt; women's clothing &gt; tops &gt; ...</td>\n",
       "      <td>8589934681</td>\n",
       "    </tr>\n",
       "    <tr>\n",
       "      <th>90</th>\n",
       "      <td>NaN</td>\n",
       "      <td>Not Available</td>\n",
       "      <td>Not Available</td>\n",
       "      <td>11320</td>\n",
       "      <td>8589934682</td>\n",
       "    </tr>\n",
       "    <tr>\n",
       "      <th>91</th>\n",
       "      <td>NaN</td>\n",
       "      <td>Not Available</td>\n",
       "      <td>Not Available</td>\n",
       "      <td>food &amp; gifts &gt; gifts &gt; garden &amp; outdoor gifts</td>\n",
       "      <td>8589934683</td>\n",
       "    </tr>\n",
       "    <tr>\n",
       "      <th>92</th>\n",
       "      <td>NaN</td>\n",
       "      <td>Not Available</td>\n",
       "      <td>Not Available</td>\n",
       "      <td>online shopping  &gt;  clothing &amp; shoes  &gt;  shoe...</td>\n",
       "      <td>8589934684</td>\n",
       "    </tr>\n",
       "    <tr>\n",
       "      <th>93</th>\n",
       "      <td>NaN</td>\n",
       "      <td>Not Available</td>\n",
       "      <td>Not Available</td>\n",
       "      <td>tools &amp; home improvement &gt; building supplies &gt;...</td>\n",
       "      <td>8589934685</td>\n",
       "    </tr>\n",
       "    <tr>\n",
       "      <th>94</th>\n",
       "      <td>NaN</td>\n",
       "      <td>Not Available</td>\n",
       "      <td>Not Available</td>\n",
       "      <td>automotive &gt; interior accessories &gt; sun protec...</td>\n",
       "      <td>8589934686</td>\n",
       "    </tr>\n",
       "    <tr>\n",
       "      <th>95</th>\n",
       "      <td>NaN</td>\n",
       "      <td>Not Available</td>\n",
       "      <td>Not Available</td>\n",
       "      <td>target &gt; clothing &gt; women's clothing &gt; tops &gt; ...</td>\n",
       "      <td>8589934687</td>\n",
       "    </tr>\n",
       "    <tr>\n",
       "      <th>96</th>\n",
       "      <td>NaN</td>\n",
       "      <td>Not Available</td>\n",
       "      <td>Not Available</td>\n",
       "      <td>home goods &gt; home decor store &gt; decorative acc...</td>\n",
       "      <td>8589934688</td>\n",
       "    </tr>\n",
       "    <tr>\n",
       "      <th>97</th>\n",
       "      <td>NaN</td>\n",
       "      <td>Not Available</td>\n",
       "      <td>Not Available</td>\n",
       "      <td>toys &amp; games</td>\n",
       "      <td>8589934689</td>\n",
       "    </tr>\n",
       "    <tr>\n",
       "      <th>98</th>\n",
       "      <td>23</td>\n",
       "      <td>http://www.walmart.com/ip/Pacto-Satanico-La-Mu...</td>\n",
       "      <td>Rating=Not Rated;Format=DVD;Starring=Raul Rami...</td>\n",
       "      <td>movies &amp; tv &gt; movies &gt; horror &gt; supernatural</td>\n",
       "      <td>8589934690</td>\n",
       "    </tr>\n",
       "    <tr>\n",
       "      <th>99</th>\n",
       "      <td>NaN</td>\n",
       "      <td>Not Available</td>\n",
       "      <td>Not Available</td>\n",
       "      <td>health &amp; household &gt; health care &gt; foot health...</td>\n",
       "      <td>8589934691</td>\n",
       "    </tr>\n",
       "  </tbody>\n",
       "</table>\n",
       "<p>100 rows × 5 columns</p>\n",
       "</div>"
      ],
      "text/plain": [
       "   storeId                                                url  \\\n",
       "0      NaN                                      Not Available   \n",
       "1      NaN                                      Not Available   \n",
       "2      NaN                                      Not Available   \n",
       "3      NaN                                      Not Available   \n",
       "4      NaN                                      Not Available   \n",
       "5      NaN                                      Not Available   \n",
       "6      NaN                                      Not Available   \n",
       "7      NaN                                      Not Available   \n",
       "8      NaN                                      Not Available   \n",
       "9      NaN                                      Not Available   \n",
       "10     NaN                                      Not Available   \n",
       "11     NaN                                      Not Available   \n",
       "12     NaN                                      Not Available   \n",
       "13     NaN                                      Not Available   \n",
       "14     NaN                                      Not Available   \n",
       "15     NaN                                      Not Available   \n",
       "16     NaN                                      Not Available   \n",
       "17     NaN                                      Not Available   \n",
       "18     NaN                                      Not Available   \n",
       "19     NaN                                      Not Available   \n",
       "20     NaN                                      Not Available   \n",
       "21     NaN                                      Not Available   \n",
       "22      26  https://www.overstock.com/Books-Movies-Music-G...   \n",
       "23     NaN                                      Not Available   \n",
       "24     NaN                                      Not Available   \n",
       "25     NaN                                      Not Available   \n",
       "26     NaN                                      Not Available   \n",
       "27     NaN                                      Not Available   \n",
       "28     NaN                                      Not Available   \n",
       "29      24         https://www.amazon.com/dp/1520591861?psc=1   \n",
       "..     ...                                                ...   \n",
       "70     NaN                                      Not Available   \n",
       "71     NaN                                      Not Available   \n",
       "72     NaN                                      Not Available   \n",
       "73     NaN                                      Not Available   \n",
       "74     NaN                                      Not Available   \n",
       "75     NaN                                      Not Available   \n",
       "76     NaN                                      Not Available   \n",
       "77     NaN                                      Not Available   \n",
       "78     NaN                                      Not Available   \n",
       "79     NaN                                      Not Available   \n",
       "80     NaN                                      Not Available   \n",
       "81     NaN                                      Not Available   \n",
       "82     NaN                                      Not Available   \n",
       "83     NaN                                      Not Available   \n",
       "84     NaN                                      Not Available   \n",
       "85     NaN                                      Not Available   \n",
       "86     NaN                                      Not Available   \n",
       "87     NaN                                      Not Available   \n",
       "88     NaN                                      Not Available   \n",
       "89     NaN                                      Not Available   \n",
       "90     NaN                                      Not Available   \n",
       "91     NaN                                      Not Available   \n",
       "92     NaN                                      Not Available   \n",
       "93     NaN                                      Not Available   \n",
       "94     NaN                                      Not Available   \n",
       "95     NaN                                      Not Available   \n",
       "96     NaN                                      Not Available   \n",
       "97     NaN                                      Not Available   \n",
       "98      23  http://www.walmart.com/ip/Pacto-Satanico-La-Mu...   \n",
       "99     NaN                                      Not Available   \n",
       "\n",
       "                                 additionalAttributes  \\\n",
       "0                                       Not Available   \n",
       "1                                       Not Available   \n",
       "2                                       Not Available   \n",
       "3                                       Not Available   \n",
       "4                                       Not Available   \n",
       "5                                       Not Available   \n",
       "6                                       Not Available   \n",
       "7                                       Not Available   \n",
       "8                                       Not Available   \n",
       "9                                       Not Available   \n",
       "10                                      Not Available   \n",
       "11                                      Not Available   \n",
       "12                                      Not Available   \n",
       "13                                      Not Available   \n",
       "14                                      Not Available   \n",
       "15                                      Not Available   \n",
       "16                                      Not Available   \n",
       "17                                      Not Available   \n",
       "18                                      Not Available   \n",
       "19                                      Not Available   \n",
       "20                                      Not Available   \n",
       "21                                      Not Available   \n",
       "22  Format=Paperback;Copyright Year=2013;Series Na...   \n",
       "23                                      Not Available   \n",
       "24                                      Not Available   \n",
       "25                                      Not Available   \n",
       "26                                      Not Available   \n",
       "27                                      Not Available   \n",
       "28                                      Not Available   \n",
       "29  author=Visit Amazon's R.S. Mollison-Read Pages...   \n",
       "..                                                ...   \n",
       "70                                      Not Available   \n",
       "71                                      Not Available   \n",
       "72                                      Not Available   \n",
       "73                                      Not Available   \n",
       "74                                      Not Available   \n",
       "75                                      Not Available   \n",
       "76                                      Not Available   \n",
       "77                                      Not Available   \n",
       "78                                      Not Available   \n",
       "79                                      Not Available   \n",
       "80                                      Not Available   \n",
       "81                                      Not Available   \n",
       "82                                      Not Available   \n",
       "83                                      Not Available   \n",
       "84                                      Not Available   \n",
       "85                                      Not Available   \n",
       "86                                      Not Available   \n",
       "87                                      Not Available   \n",
       "88                                      Not Available   \n",
       "89                                      Not Available   \n",
       "90                                      Not Available   \n",
       "91                                      Not Available   \n",
       "92                                      Not Available   \n",
       "93                                      Not Available   \n",
       "94                                      Not Available   \n",
       "95                                      Not Available   \n",
       "96                                      Not Available   \n",
       "97                                      Not Available   \n",
       "98  Rating=Not Rated;Format=DVD;Starring=Raul Rami...   \n",
       "99                                      Not Available   \n",
       "\n",
       "                                          breadcrumbs          id  \n",
       "0   baby products > bathing & skin care > washclot...  8589934592  \n",
       "1    online shopping  >  home & garden  >  art gal...  8589934593  \n",
       "2   home goods > kitchen & dining > table linens &...  8589934594  \n",
       "3                                               11320  8589934595  \n",
       "4   tools & home improvement > kitchen & bath fixt...  8589934596  \n",
       "5   best buy > cameras & camcorders > digital came...  8589934597  \n",
       "6         clothing > boys > boys' jackets & outerwear  8589934598  \n",
       "7    target  >  clothing  >  women's clothing  >  ...  8589934599  \n",
       "8   target > sports, fitness & outdoors > fan shop...  8589934600  \n",
       "9                                        toys & games  8589934601  \n",
       "10  target > shoes > women's shoes > sandals > fli...  8589934602  \n",
       "11   online shopping  >  home & garden  >  art gal...  8589934603  \n",
       "12   home  >  decor  >  curtains & window covering...  8589934604  \n",
       "13  best buy > health fitness & beauty > personal ...  8589934605  \n",
       "14   patio & garden  >  gardening & lawn care  >  ...  8589934606  \n",
       "15  office products > office & school supplies > p...  8589934607  \n",
       "16  target > clearance > clothing & accessories > ...  8589934608  \n",
       "17  best buy > cell phones > cell phone accessorie...  8589934609  \n",
       "18  home improvement > hardware > cabinet hardware...  8589934610  \n",
       "19  best buy > computers & tablets > ipad & tablet...  8589934611  \n",
       "20  clothing & shoes > accessories > hats > women'...  8589934612  \n",
       "21               beauty > fragrances > all fragrances  8589934613  \n",
       "22  books & media > books > science books > genera...  8589934614  \n",
       "23   jewelry & watches  >  jewelry  >  wedding rin...  8589934615  \n",
       "24   online shopping  >  clothing & shoes  >  shoe...  8589934616  \n",
       "25      target > home > home decor > rugs > area rugs  8589934617  \n",
       "26  tools & home improvement > electrical > breake...  8589934618  \n",
       "27  health & household > vitamins & dietary supple...  8589934619  \n",
       "28  home improvement > bathroom renovation > bathr...  8589934620  \n",
       "29  books > literature & fiction > genre fiction >...  8589934621  \n",
       "..                                                ...         ...  \n",
       "70                                              11320  8589934662  \n",
       "71  target > patio & garden > patio furniture > pa...  8589934663  \n",
       "72  health & household > medical supplies & equipm...  8589934664  \n",
       "73                                         automotive  8589934665  \n",
       "74  target > clothing > women's clothing > intimat...  8589934666  \n",
       "75            health > vitamins > children's vitamins  8589934667  \n",
       "76  household essentials > cleaning supplies > all...  8589934668  \n",
       "77  best buy > home > toys games & hobbies > learn...  8589934669  \n",
       "78  best buy > appliances > heating cooling & air ...  8589934670  \n",
       "79  best buy > cell phones > cell phone accessorie...  8589934671  \n",
       "80  clothing shoes & jewelry > women > clothing > ...  8589934672  \n",
       "81                    home > decor > rugs > area rugs  8589934673  \n",
       "82  best buy > computers & tablets > networking & ...  8589934674  \n",
       "83   home  >  decor  >  curtains & window treatmen...  8589934675  \n",
       "84  home page > party & occasions > crafts > scrap...  8589934676  \n",
       "85       target > gift finder > gifts for baby > gear  8589934677  \n",
       "86  target > clothing > women's clothing > swimsui...  8589934678  \n",
       "87   online shopping  >  clothing & shoes  >  wome...  8589934679  \n",
       "88       office > office supplies > labels & stickers  8589934680  \n",
       "89  target > clothing > women's clothing > tops > ...  8589934681  \n",
       "90                                              11320  8589934682  \n",
       "91      food & gifts > gifts > garden & outdoor gifts  8589934683  \n",
       "92   online shopping  >  clothing & shoes  >  shoe...  8589934684  \n",
       "93  tools & home improvement > building supplies >...  8589934685  \n",
       "94  automotive > interior accessories > sun protec...  8589934686  \n",
       "95  target > clothing > women's clothing > tops > ...  8589934687  \n",
       "96  home goods > home decor store > decorative acc...  8589934688  \n",
       "97                                       toys & games  8589934689  \n",
       "98       movies & tv > movies > horror > supernatural  8589934690  \n",
       "99  health & household > health care > foot health...  8589934691  \n",
       "\n",
       "[100 rows x 5 columns]"
      ]
     },
     "execution_count": 269,
     "metadata": {},
     "output_type": "execute_result"
    }
   ],
   "source": [
    "media_eval[0:100]"
   ]
  },
  {
   "cell_type": "code",
   "execution_count": 72,
   "metadata": {
    "collapsed": true
   },
   "outputs": [],
   "source": [
    "media['length_breadcrumbs'] = media['breadcrumbs'].apply(len)\n",
    "media['length_additionalAttributes'] = media['additionalAttributes'].apply(len)"
   ]
  },
  {
   "cell_type": "code",
   "execution_count": 75,
   "metadata": {
    "collapsed": true
   },
   "outputs": [],
   "source": [
    "%matplotlib inline"
   ]
  },
  {
   "cell_type": "code",
   "execution_count": 78,
   "metadata": {
    "collapsed": false
   },
   "outputs": [
    {
     "data": {
      "text/plain": [
       "<matplotlib.axes._subplots.AxesSubplot at 0x13e1e4fd0>"
      ]
     },
     "execution_count": 78,
     "metadata": {},
     "output_type": "execute_result"
    },
    {
     "data": {
      "image/png": "[encoded data removed]",
      "text/plain": [
       "<matplotlib.figure.Figure at 0x13a056c18>"
      ]
     },
     "metadata": {},
     "output_type": "display_data"
    }
   ],
   "source": [
    "media['length_breadcrumbs'].plot.hist(bins=100)"
   ]
  },
  {
   "cell_type": "code",
   "execution_count": 87,
   "metadata": {
    "collapsed": false
   },
   "outputs": [
    {
     "data": {
      "text/plain": [
       "[0, 1500, 0, 450000]"
      ]
     },
     "execution_count": 87,
     "metadata": {},
     "output_type": "execute_result"
    },
    {
     "data": {
      "image/png": "[encoded data removed]",
      "text/plain": [
       "<matplotlib.figure.Figure at 0x12d089390>"
      ]
     },
     "metadata": {},
     "output_type": "display_data"
    }
   ],
   "source": [
    "media['length_additionalAttributes'].plot.hist(bins=100).axis([0,1500,0,450000])"
   ]
  },
  {
   "cell_type": "code",
   "execution_count": 88,
   "metadata": {
    "collapsed": false
   },
   "outputs": [
    {
     "data": {
      "text/plain": [
       "count    603201.000000\n",
       "mean         63.993420\n",
       "std          50.104872\n",
       "min           2.000000\n",
       "25%          44.000000\n",
       "50%          60.000000\n",
       "75%          78.000000\n",
       "max        2195.000000\n",
       "Name: length_breadcrumbs, dtype: float64"
      ]
     },
     "execution_count": 88,
     "metadata": {},
     "output_type": "execute_result"
    }
   ],
   "source": [
    "media['length_breadcrumbs'].describe()"
   ]
  },
  {
   "cell_type": "code",
   "execution_count": 89,
   "metadata": {
    "collapsed": false
   },
   "outputs": [
    {
     "data": {
      "text/plain": [
       "count    603201.000000\n",
       "mean        103.706143\n",
       "std         165.516358\n",
       "min           5.000000\n",
       "25%          13.000000\n",
       "50%          13.000000\n",
       "75%         153.000000\n",
       "max        4977.000000\n",
       "Name: length_additionalAttributes, dtype: float64"
      ]
     },
     "execution_count": 89,
     "metadata": {},
     "output_type": "execute_result"
    }
   ],
   "source": [
    "media['length_additionalAttributes'].describe()"
   ]
  },
  {
   "cell_type": "code",
   "execution_count": 92,
   "metadata": {
    "collapsed": false
   },
   "outputs": [
    {
     "data": {
      "text/plain": [
       "'books > literature & fiction > genre fiction > gothic > books > literature & fiction > genre fiction > horror > dark fantasy > books > mystery thriller & suspense > thrillers & suspense > supernatural > books > mystery thriller & suspense > thrillers & suspense > suspense > books > romance > gothic > books > romance > romantic suspense > books > romance > science fiction > books > science fiction & fantasy > fantasy > epic > books > science fiction & fantasy > fantasy > historical > books > science fiction & fantasy > fantasy > paranormal & urban > books > science fiction & fantasy > science fiction > adventure > books > science fiction & fantasy > science fiction > dystopian > books > science fiction & fantasy > science fiction > genetic engineering > books > science fiction & fantasy > science fiction > hard science fiction > books > science fiction & fantasy > science fiction > post-apocalyptic > books > science fiction & fantasy > science fiction > space opera > kindle store > kindle ebooks > literature & fiction > horror > dark fantasy > kindle store > kindle ebooks > mystery thriller & suspense > suspense > kindle store > kindle ebooks > mystery thriller & suspense > thrillers > kindle store > kindle ebooks > romance > gothic > kindle store > kindle ebooks > romance > mystery & suspense > suspense > kindle store > kindle ebooks > romance > science fiction > kindle store > kindle ebooks > science fiction & fantasy > fantasy > epic > kindle store > kindle ebooks > science fiction & fantasy > fantasy > historical > kindle store > kindle ebooks > science fiction & fantasy > fantasy > paranormal & urban > kindle store > kindle ebooks > science fiction & fantasy > science fiction > adventure > kindle store > kindle ebooks > science fiction & fantasy > science fiction > dystopian > kindle store > kindle ebooks > science fiction & fantasy > science fiction > genetic engineering > kindle store > kindle ebooks > science fiction & fantasy > science fiction > hard science fiction > kindle store > kindle ebooks > science fiction & fantasy > science fiction > post-apocalyptic > kindle store > kindle ebooks > science fiction & fantasy > science fiction > space opera'"
      ]
     },
     "execution_count": 92,
     "metadata": {},
     "output_type": "execute_result"
    }
   ],
   "source": [
    "media[media['length_breadcrumbs'] == 2195]['breadcrumbs'].iloc[0]"
   ]
  },
  {
   "cell_type": "code",
   "execution_count": 96,
   "metadata": {
    "collapsed": false
   },
   "outputs": [
    {
     "data": {
      "text/plain": [
       "\"49.=I Just Like Him (Ireland 1965);2.=Airport (Ireland 1965);36.=Airport Ireland (Director's Cut);15.=Around Around (Ireland 1965);31.=The Band Interview (Producer's Cut);75.=The Train (Producer's Cut);34.=Credits (Producer's Cut);78.=Priest And The Poor Boy (Producer's Cut);23.=Ireland And The Fans (Producer's Cut);132.=Show Intro;56.=Premature Evacuation (Ireland 1965);101.=Time Is On My Side (Live);8.=Premature Evacuation (Ireland 1965);13.=Salty Dog (Ireland 1965);98.=Heart Of Stone (Stereo Version);88.=The Last Time (Director's Cut);69.=Opening Credits And Meeting The Band (Producer's Cut);43.=The Band Interviews (Director's Cut);26.=I'm Alright Riot (Producer's Cut);63.=Around Around (Ireland 1965);73.=The Last Time (Producer's Cut);21.=Opening Credits And Meeting The Band (Producer's Cut);28.=Family Portrait (Producer's Cut);60.=All Of It's Acting Really (Ireland 1965);81.=Going Home (Producer's Cut);119.=Show Intro;30.=Priest And The Poor Boy (Producer's Cut);114.=Subconsciously Supernatural;136.=Time Is On My Side;104.=Theme For A Rolling Stone;106.=Maybe It's Because I'm A Londoner;110.=Are You Going To The Show?;127.=Little Red Rooster;123.=Time Is On My Side;37.=Backstage (Director's Cut);113.=Blue Turns To Grey;54.=Time Is On My Side (Ireland 1965);79.=The Band Interview (Producer's Cut);95.=End Credits (Director's Cut);19.=Going Home (Ireland 1965);22.=Airport (Producer's Cut);66.=Elvis Is In The Room (Ireland 1965);7.=I'm Alright (Ireland 1965);39.=Salty Dog (Director's Cut);70.=Airport (Producer's Cut);92.=The Elvis Room (Director's Cut);32.=Elvis Room (Producer's Cut);93.=The Mick Jagger Interview (Director's Cut);74.=I'm Alright Riot (Producer's Cut);105.=Nice Tea;109.=Heart Of Stone;82.=Credits (Producer's Cut);57.=Sitting On A Fence (Ireland 1965);97.=Play With Fire;10.=Sea Is On The Right (Ireland 1965);61.=Salty Dog (Ireland 1965);38.=Fans (Director's Cut);44.=The Elvis Room (Director's Cut);87.=Salty Dog (Director's Cut);137.=I'm Alright;83.=Opening Credits Meeting The Band (Director's Cut);12.=All Of It's Acting Really (Ireland 1965);133.=Everybody Needs Somebody To Love;29.=Always The Stones (Producer's Cut);65.=We'll Turn The Screaming Down (Ireland 1965);6.=Time Is On My Side (Ireland 1965);51.=The Creatures (Ireland 1965);3.=The Creatures (Ireland 1965);115.=(I Can't Get No) Satisfaction;122.=Down The Road Apiece;118.=Goin' Home;100.=The Last Time (Live);24.=Backstage (Producer's Cut);142.=I'm Moving On;53.=The Last Time (Ireland 1965);Record Label=DVD;80.=Elvis Room (Producer's Cut);112.=Pain In My Heart (Live);91.=The Band Interviews (Director's Cut);117.=(I Can't Get No) Satisfaction (Live);40.=The Last Time (Director's Cut);27.=The Train (Producer's Cut);71.=Ireland And The Fans (Producer's Cut);62.=Everybody Needs Somebody/Pain In My Heart (Ireland 1965);121.=Pain In My Heart;47.=End Credits (Director's Cut);96.=Charlie Is My Darling Restoration Piece;86.=Fans (Director's Cut);18.=Elvis Is In The Room (Ireland 1965);17.=We'll Turn The Screaming Down (Ireland 1965);134.=Pain In My Heart;120.=Everybody Needs Somebody To Love;130.=The Last Time;138.=Off The Hook;59.=The Pied Piper (Ireland 1965);58.=Sea Is On The Right (Ireland 1965);64.=(I Can't Get No) Satisfaction (Ireland 1965);77.=Always The Stones (Producer's Cut);143.=The Last Time;67.=Going Home (Ireland 1965);16.=(I Can't Get No) Satisfaction (Ireland 1965);84.=Airport Ireland (Director's Cut);102.=I'm Alright (Live);108.=Tell Me;25.=The Last Time (Producer's Cut);52.=Backstage (Ireland 1965);9.=Sitting On A Fence (Ireland 1965);45.=The Mick Jagger Interview (Director's Cut);4.=Backstage (Ireland 1965);116.=The Moon In June;99.=Who Do You Like In The Group?;129.=I'm Moving On;125.=Off The Hook;11.=The Pied Piper (Ireland 1965);55.=I'm Alright (Ireland 1965);72.=Backstage (Producer's Cut);76.=Family Portrait (Producer's Cut);48.=Charlie Is My Darling Restoration Piece;Brand=UMGD;131.=Everybody Needs Somebody To Love (Finale);5.=The Last Time (Ireland 1965);14.=Everybody Needs Somebody/Pain In My Heart (Ireland 1965);141.=Route 66;46.=Going Home (Director's Cut);139.=Charlie's Intro To Little Red Rooster;107.=Play With Fire (Mono Version);103.=The Next House We'll Turn The Screaming Down;135.=Down The Road Apiece;41.=I'm Alright Riot (Director's Cut);50.=Airport (Ireland 1965);35.=Opening Credits Meeting The Band (Director's Cut);Performer=The Rolling Stones;128.=Route 66;94.=Going Home (Director's Cut);124.=I'm Alright;140.=Little Red Rooster;90.=The Train (Director's Cut);33.=Going Home (Producer's Cut);68.=I'd Much Rather Be With The Boys/Final Credits (Ireland 1965);144.=Everybody Needs Somebody To Love (Finale);20.=I'd Much Rather Be With The Boys/Final Credits (Ireland 1965);111.=Everybody Needs Somebody To Love (Live);126.=Charlie's Intro To Little Red Rooster;85.=Backstage (Director's Cut);42.=The Train (Director's Cut);1.=I Just Like Him (Ireland 1965);89.=I'm Alright Riot (Director's Cut)\""
      ]
     },
     "execution_count": 96,
     "metadata": {},
     "output_type": "execute_result"
    }
   ],
   "source": [
    "media[media['length_additionalAttributes'] == 4977]['additionalAttributes'].iloc[0]"
   ]
  },
  {
   "cell_type": "code",
   "execution_count": 103,
   "metadata": {
    "collapsed": false
   },
   "outputs": [
    {
     "data": {
      "text/plain": [
       "array([[<matplotlib.axes._subplots.AxesSubplot object at 0x137e8a828>,\n",
       "        <matplotlib.axes._subplots.AxesSubplot object at 0x137e9bd68>],\n",
       "       [<matplotlib.axes._subplots.AxesSubplot object at 0x12171ccc0>,\n",
       "        <matplotlib.axes._subplots.AxesSubplot object at 0x121769be0>]], dtype=object)"
      ]
     },
     "execution_count": 103,
     "metadata": {},
     "output_type": "execute_result"
    },
    {
     "data": {
      "image/png": "[encoded data removed]",
      "text/plain": [
       "<matplotlib.figure.Figure at 0x13dcc2d68>"
      ]
     },
     "metadata": {},
     "output_type": "display_data"
    }
   ],
   "source": [
    "media.hist(column = 'length_breadcrumbs',by = 'label',bins = 50,figsize = (20,8))\n",
    "#Checking the length of breadcrumbs and plotting"
   ]
  },
  {
   "cell_type": "code",
   "execution_count": 105,
   "metadata": {
    "collapsed": false
   },
   "outputs": [
    {
     "data": {
      "text/plain": [
       "array([[<matplotlib.axes._subplots.AxesSubplot object at 0x137ebb208>,\n",
       "        <matplotlib.axes._subplots.AxesSubplot object at 0x13b49e908>],\n",
       "       [<matplotlib.axes._subplots.AxesSubplot object at 0x13a111a58>,\n",
       "        <matplotlib.axes._subplots.AxesSubplot object at 0x13a179c50>]], dtype=object)"
      ]
     },
     "execution_count": 105,
     "metadata": {},
     "output_type": "execute_result"
    },
    {
     "data": {
      "image/png": "[encoded data removed]",
      "text/plain": [
       "<matplotlib.figure.Figure at 0x1217e9d68>"
      ]
     },
     "metadata": {},
     "output_type": "display_data"
    }
   ],
   "source": [
    "media.hist(column = 'length_additionalAttributes',by = 'label',bins = 50,figsize = (20,8))\n",
    "#Checking the length of additionalattributes and plotting"
   ]
  },
  {
   "cell_type": "code",
   "execution_count": 175,
   "metadata": {
    "collapsed": true
   },
   "outputs": [],
   "source": [
    "from nltk.corpus import stopwords\n",
    "from nltk.stem import PorterStemmer"
   ]
  },
  {
   "cell_type": "code",
   "execution_count": 251,
   "metadata": {
    "collapsed": false
   },
   "outputs": [],
   "source": [
    "def text_cleanup(med_data):\n",
    "    \"\"\"\n",
    "    1. Remove Punctuation\n",
    "    2. Remove stop words\n",
    "    3. Return a list of clean text\n",
    "    4. Stemming of the words performed\n",
    "    \"\"\"\n",
    "    \n",
    "    rm_punc = [char for char in med_data if char not in string.punctuation]\n",
    "    rm_punc = ''.join(rm_punc)\n",
    "    stemmer =  PorterStemmer()\n",
    "    rm_punc = stemmer.stem(rm_punc)\n",
    "    \n",
    "    return [word for word in rm_punc.split() if word.lower() not in stopwords.words('english')]"
   ]
  },
  {
   "cell_type": "code",
   "execution_count": 254,
   "metadata": {
    "collapsed": false
   },
   "outputs": [
    {
     "data": {
      "text/plain": [
       "0                [books, art, music, photography, mus]\n",
       "1    [best, buy, computers, tablets, computer, card...\n",
       "2    [music, cd, vinyl, rock, music, cd, vinyl, alt...\n",
       "3    [books, media, books, cooking, food, books, ge...\n",
       "4         [target, movies, music, books, music, class]\n",
       "Name: breadcrumbs, dtype: object"
      ]
     },
     "execution_count": 254,
     "metadata": {},
     "output_type": "execute_result"
    }
   ],
   "source": [
    "media['breadcrumbs'].head(5).apply(text_cleanup)"
   ]
  },
  {
   "cell_type": "code",
   "execution_count": 255,
   "metadata": {
    "collapsed": false
   },
   "outputs": [
    {
     "data": {
      "text/plain": [
       "0    [baby, products, bathing, skin, care, washclot...\n",
       "1    [online, shopping, home, garden, art, gallery,...\n",
       "2    [home, goods, kitchen, dining, table, linens, ...\n",
       "3                                              [11320]\n",
       "4    [tools, home, improvement, kitchen, bath, fixt...\n",
       "Name: breadcrumbs, dtype: object"
      ]
     },
     "execution_count": 255,
     "metadata": {},
     "output_type": "execute_result"
    }
   ],
   "source": [
    "media_eval['breadcrumbs'].head(5).apply(text_cleanup)"
   ]
  },
  {
   "cell_type": "code",
   "execution_count": 256,
   "metadata": {
    "collapsed": false
   },
   "outputs": [],
   "source": [
    "from sklearn.feature_extraction.text import CountVectorizer, TfidfTransformer "
   ]
  },
  {
   "cell_type": "code",
   "execution_count": 270,
   "metadata": {
    "collapsed": false
   },
   "outputs": [],
   "source": [
    "# Generating the countVectorizer for training set\n",
    "bow_trans = CountVectorizer(analyzer=text_cleanup).fit(media['breadcrumbs'])  "
   ]
  },
  {
   "cell_type": "code",
   "execution_count": 273,
   "metadata": {
    "collapsed": false
   },
   "outputs": [
    {
     "name": "stdout",
     "output_type": "stream",
     "text": [
      "20908\n"
     ]
    }
   ],
   "source": [
    "print(len(bow_trans.vocabulary_)) ##Printing the length"
   ]
  },
  {
   "cell_type": "code",
   "execution_count": 181,
   "metadata": {
    "collapsed": true
   },
   "outputs": [],
   "source": [
    "media_mess = media['breadcrumbs'][4]"
   ]
  },
  {
   "cell_type": "code",
   "execution_count": 182,
   "metadata": {
    "collapsed": false
   },
   "outputs": [
    {
     "data": {
      "text/plain": [
       "'target > movies, music & books > music > classical'"
      ]
     },
     "execution_count": 182,
     "metadata": {},
     "output_type": "execute_result"
    }
   ],
   "source": [
    "media_mess"
   ]
  },
  {
   "cell_type": "code",
   "execution_count": 191,
   "metadata": {
    "collapsed": false
   },
   "outputs": [],
   "source": [
    "bowt = bow_trans.transform([media_mess])"
   ]
  },
  {
   "cell_type": "code",
   "execution_count": 195,
   "metadata": {
    "collapsed": false
   },
   "outputs": [
    {
     "name": "stdout",
     "output_type": "stream",
     "text": [
      "  (0, 2228)\t1\n",
      "  (0, 3693)\t1\n",
      "  (0, 12883)\t1\n",
      "  (0, 13010)\t2\n",
      "  (0, 18667)\t1\n",
      "(1, 20908)\n"
     ]
    }
   ],
   "source": [
    "print(bowt)  \n",
    "print(bowt.shape)  ## Printing the shape"
   ]
  },
  {
   "cell_type": "code",
   "execution_count": 196,
   "metadata": {
    "collapsed": false
   },
   "outputs": [
    {
     "name": "stdout",
     "output_type": "stream",
     "text": [
      "music\n"
     ]
    }
   ],
   "source": [
    "print(bow_trans.get_feature_names()[13010]) ## Finding the words which appear twice"
   ]
  },
  {
   "cell_type": "code",
   "execution_count": 275,
   "metadata": {
    "collapsed": false
   },
   "outputs": [
    {
     "data": {
      "text/plain": [
       "(603201, 20908)"
      ]
     },
     "execution_count": 275,
     "metadata": {},
     "output_type": "execute_result"
    }
   ],
   "source": [
    "## To generate bag of words count and vocabulary has been fitted for training set\n",
    "media_message = bow_trans.transform(media['breadcrumbs'])\n",
    "media_message.shape"
   ]
  },
  {
   "cell_type": "code",
   "execution_count": 300,
   "metadata": {
    "collapsed": false
   },
   "outputs": [],
   "source": [
    "## Baf of words Transformation of the evaluation set and fiited vocabulary of the training set\n",
    "media_eval_message1 = bow_trans.transform(media_eval['breadcrumbs'])"
   ]
  },
  {
   "cell_type": "code",
   "execution_count": 198,
   "metadata": {
    "collapsed": false
   },
   "outputs": [
    {
     "data": {
      "text/plain": [
       "3635189"
      ]
     },
     "execution_count": 198,
     "metadata": {},
     "output_type": "execute_result"
    }
   ],
   "source": [
    "media_message.nnz"
   ]
  },
  {
   "cell_type": "code",
   "execution_count": 218,
   "metadata": {
    "collapsed": false
   },
   "outputs": [
    {
     "name": "stdout",
     "output_type": "stream",
     "text": [
      "0.028823880677194273\n"
     ]
    }
   ],
   "source": [
    "#Sparsity of the training set\n",
    "print (100 * media_message.nnz / (media_message.shape[0]*media_message.shape[1]))"
   ]
  },
  {
   "cell_type": "code",
   "execution_count": 277,
   "metadata": {
    "collapsed": false
   },
   "outputs": [
    {
     "name": "stdout",
     "output_type": "stream",
     "text": [
      "0.045234199756758395\n"
     ]
    }
   ],
   "source": [
    "#Sparsity of the evaluation set\n",
    "print (100 * media_eval_message.nnz / (media_eval_message.shape[0]*media_eval_message.shape[1]))"
   ]
  },
  {
   "cell_type": "code",
   "execution_count": 278,
   "metadata": {
    "collapsed": false
   },
   "outputs": [],
   "source": [
    "### TFIDF Implementation on training set\n",
    "media_tfidf = TfidfTransformer().fit(media_message)"
   ]
  },
  {
   "cell_type": "code",
   "execution_count": 280,
   "metadata": {
    "collapsed": false
   },
   "outputs": [],
   "source": [
    "tfidf_trans = media_tfidf.transform(bowt)"
   ]
  },
  {
   "cell_type": "code",
   "execution_count": 281,
   "metadata": {
    "collapsed": false
   },
   "outputs": [
    {
     "name": "stdout",
     "output_type": "stream",
     "text": [
      "  (0, 18667)\t0.265205014074\n",
      "  (0, 13010)\t0.594636769994\n",
      "  (0, 12883)\t0.296078661455\n",
      "  (0, 3693)\t0.64045197001\n",
      "  (0, 2228)\t0.279700040442\n"
     ]
    }
   ],
   "source": [
    "print(tfidf_trans)"
   ]
  },
  {
   "cell_type": "code",
   "execution_count": 282,
   "metadata": {
    "collapsed": true
   },
   "outputs": [],
   "source": [
    "media_message_tfidf = media_tfidf.transform(media_message)"
   ]
  },
  {
   "cell_type": "code",
   "execution_count": 304,
   "metadata": {
    "collapsed": false
   },
   "outputs": [],
   "source": [
    "## TFIDF Implemation of evaluation set\n",
    "media_eval_tfidf1 = TfidfTransformer().fit(media_eval_message1)"
   ]
  },
  {
   "cell_type": "code",
   "execution_count": 305,
   "metadata": {
    "collapsed": true
   },
   "outputs": [],
   "source": [
    "media_eval_message_tfidf1 = media_eval_tfidf.transform(media_eval_message1)"
   ]
  },
  {
   "cell_type": "code",
   "execution_count": 322,
   "metadata": {
    "collapsed": false
   },
   "outputs": [
    {
     "name": "stdout",
     "output_type": "stream",
     "text": [
      "(442041, 20908)\n"
     ]
    }
   ],
   "source": [
    "print (media_eval_message_tfidf1.shape)"
   ]
  },
  {
   "cell_type": "code",
   "execution_count": 231,
   "metadata": {
    "collapsed": true
   },
   "outputs": [],
   "source": [
    "from sklearn.naive_bayes import MultinomialNB\n",
    "from sklearn.metrics import classification_report,f1_score,accuracy_score,confusion_matrix"
   ]
  },
  {
   "cell_type": "code",
   "execution_count": 284,
   "metadata": {
    "collapsed": true
   },
   "outputs": [],
   "source": [
    "## Naive bayes classfier\n",
    "media_classfication = MultinomialNB().fit(media_message_tfidf,media['label'])"
   ]
  },
  {
   "cell_type": "code",
   "execution_count": 233,
   "metadata": {
    "collapsed": false
   },
   "outputs": [
    {
     "data": {
      "text/plain": [
       "array(['music'], \n",
       "      dtype='<U6')"
      ]
     },
     "execution_count": 233,
     "metadata": {},
     "output_type": "execute_result"
    }
   ],
   "source": [
    "media_classfication.predict(tfidf_trans)"
   ]
  },
  {
   "cell_type": "code",
   "execution_count": 234,
   "metadata": {
    "collapsed": false
   },
   "outputs": [
    {
     "data": {
      "text/plain": [
       "'music'"
      ]
     },
     "execution_count": 234,
     "metadata": {},
     "output_type": "execute_result"
    }
   ],
   "source": [
    "media['label'][4]"
   ]
  },
  {
   "cell_type": "code",
   "execution_count": 235,
   "metadata": {
    "collapsed": true
   },
   "outputs": [],
   "source": [
    "media_predict = media_classfication.predict(media_message_tfidf)  # Predicting the training set"
   ]
  },
  {
   "cell_type": "code",
   "execution_count": 306,
   "metadata": {
    "collapsed": false
   },
   "outputs": [],
   "source": [
    "media_eval_predict = media_classfication.predict(media_eval_message_tfidf1)  #Predicting the evaluation set"
   ]
  },
  {
   "cell_type": "code",
   "execution_count": 307,
   "metadata": {
    "collapsed": false
   },
   "outputs": [
    {
     "name": "stdout",
     "output_type": "stream",
     "text": [
      "['rest' 'rest' 'rest' ..., 'rest' 'rest' 'music']\n"
     ]
    }
   ],
   "source": [
    "print(media_eval_predict)"
   ]
  },
  {
   "cell_type": "code",
   "execution_count": 314,
   "metadata": {
    "collapsed": true
   },
   "outputs": [],
   "source": [
    "media_eval['label'] = media_eval_predict"
   ]
  },
  {
   "cell_type": "code",
   "execution_count": 321,
   "metadata": {
    "collapsed": false
   },
   "outputs": [],
   "source": [
    "writer = pd.DataFrame(media_eval).to_csv('media_eval.csv')"
   ]
  },
  {
   "cell_type": "code",
   "execution_count": 312,
   "metadata": {
    "collapsed": false
   },
   "outputs": [
    {
     "data": {
      "text/plain": [
       "0.9969827636227393"
      ]
     },
     "execution_count": 312,
     "metadata": {},
     "output_type": "execute_result"
    }
   ],
   "source": [
    "accuracy_score(media['label'],media_predict)  #Accuracy Score of the training set "
   ]
  },
  {
   "cell_type": "code",
   "execution_count": 236,
   "metadata": {
    "collapsed": false
   },
   "outputs": [
    {
     "name": "stdout",
     "output_type": "stream",
     "text": [
      "['books' 'rest' 'music' ..., 'rest' 'books' 'rest']\n"
     ]
    }
   ],
   "source": [
    "print (media_predict)  #Train Prediction"
   ]
  },
  {
   "cell_type": "code",
   "execution_count": 313,
   "metadata": {
    "collapsed": false
   },
   "outputs": [
    {
     "data": {
      "text/plain": [
       "array([[ 94960,     50,    615,    186],\n",
       "       [     1,  59522,      9,    464],\n",
       "       [   149,     29, 389019,     53],\n",
       "       [   259,      3,      2,  57880]])"
      ]
     },
     "execution_count": 313,
     "metadata": {},
     "output_type": "execute_result"
    }
   ],
   "source": [
    "confusion_matrix(media['label'], media_predict)  # Confusion Matrix of the training set"
   ]
  },
  {
   "cell_type": "code",
   "execution_count": 242,
   "metadata": {
    "collapsed": false
   },
   "outputs": [
    {
     "data": {
      "text/plain": [
       "'             precision    recall  f1-score   support\\n\\n      books       1.00      0.99      0.99     95811\\n      music       1.00      0.99      1.00     59996\\n       rest       1.00      1.00      1.00    389250\\n     videos       0.99      1.00      0.99     58144\\n\\navg / total       1.00      1.00      1.00    603201\\n'"
      ]
     },
     "execution_count": 242,
     "metadata": {},
     "output_type": "execute_result"
    }
   ],
   "source": [
    "classification_report(media['label'], media_predict)  #Precision, Recall, F1 Score of Training set"
   ]
  },
  {
   "cell_type": "code",
   "execution_count": null,
   "metadata": {
    "collapsed": true
   },
   "outputs": [],
   "source": []
  }
 ],
 "metadata": {
  "kernelspec": {
   "display_name": "Python 3",
   "language": "python",
   "name": "python3"
  },
  "language_info": {
   "codemirror_mode": {
    "name": "ipython",
    "version": 3
   },
   "file_extension": ".py",
   "mimetype": "text/x-python",
   "name": "python",
   "nbconvert_exporter": "python",
   "pygments_lexer": "ipython3",
   "version": "3.6.0"
  }
 },
 "nbformat": 4,
 "nbformat_minor": 2
}
